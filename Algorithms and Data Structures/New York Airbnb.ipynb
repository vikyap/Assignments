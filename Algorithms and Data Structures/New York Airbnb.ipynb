{
 "cells": [
  {
   "cell_type": "code",
   "execution_count": 8,
   "metadata": {},
   "outputs": [],
   "source": [
    "import pandas as pd \n",
    "import numpy as np\n",
    "import matplotlib.pyplot as plt \n",
    "import seaborn as sns"
   ]
  },
  {
   "cell_type": "code",
   "execution_count": 9,
   "metadata": {},
   "outputs": [],
   "source": [
    "df = pd.read_csv(\"AB_NYC_2019.csv\")"
   ]
  },
  {
   "cell_type": "code",
   "execution_count": 10,
   "metadata": {},
   "outputs": [
    {
     "data": {
      "text/html": [
       "<div>\n",
       "<style scoped>\n",
       "    .dataframe tbody tr th:only-of-type {\n",
       "        vertical-align: middle;\n",
       "    }\n",
       "\n",
       "    .dataframe tbody tr th {\n",
       "        vertical-align: top;\n",
       "    }\n",
       "\n",
       "    .dataframe thead th {\n",
       "        text-align: right;\n",
       "    }\n",
       "</style>\n",
       "<table border=\"1\" class=\"dataframe\">\n",
       "  <thead>\n",
       "    <tr style=\"text-align: right;\">\n",
       "      <th></th>\n",
       "      <th>id</th>\n",
       "      <th>name</th>\n",
       "      <th>host_id</th>\n",
       "      <th>host_name</th>\n",
       "      <th>neighbourhood_group</th>\n",
       "      <th>neighbourhood</th>\n",
       "      <th>latitude</th>\n",
       "      <th>longitude</th>\n",
       "      <th>room_type</th>\n",
       "      <th>price</th>\n",
       "      <th>minimum_nights</th>\n",
       "      <th>number_of_reviews</th>\n",
       "      <th>last_review</th>\n",
       "      <th>reviews_per_month</th>\n",
       "      <th>calculated_host_listings_count</th>\n",
       "      <th>availability_365</th>\n",
       "    </tr>\n",
       "  </thead>\n",
       "  <tbody>\n",
       "    <tr>\n",
       "      <th>0</th>\n",
       "      <td>2539</td>\n",
       "      <td>Clean &amp; quiet apt home by the park</td>\n",
       "      <td>2787</td>\n",
       "      <td>John</td>\n",
       "      <td>Brooklyn</td>\n",
       "      <td>Kensington</td>\n",
       "      <td>40.64749</td>\n",
       "      <td>-73.97237</td>\n",
       "      <td>Private room</td>\n",
       "      <td>149</td>\n",
       "      <td>1</td>\n",
       "      <td>9</td>\n",
       "      <td>2018-10-19</td>\n",
       "      <td>0.21</td>\n",
       "      <td>6</td>\n",
       "      <td>365</td>\n",
       "    </tr>\n",
       "    <tr>\n",
       "      <th>1</th>\n",
       "      <td>2595</td>\n",
       "      <td>Skylit Midtown Castle</td>\n",
       "      <td>2845</td>\n",
       "      <td>Jennifer</td>\n",
       "      <td>Manhattan</td>\n",
       "      <td>Midtown</td>\n",
       "      <td>40.75362</td>\n",
       "      <td>-73.98377</td>\n",
       "      <td>Entire home/apt</td>\n",
       "      <td>225</td>\n",
       "      <td>1</td>\n",
       "      <td>45</td>\n",
       "      <td>2019-05-21</td>\n",
       "      <td>0.38</td>\n",
       "      <td>2</td>\n",
       "      <td>355</td>\n",
       "    </tr>\n",
       "    <tr>\n",
       "      <th>2</th>\n",
       "      <td>3647</td>\n",
       "      <td>THE VILLAGE OF HARLEM....NEW YORK !</td>\n",
       "      <td>4632</td>\n",
       "      <td>Elisabeth</td>\n",
       "      <td>Manhattan</td>\n",
       "      <td>Harlem</td>\n",
       "      <td>40.80902</td>\n",
       "      <td>-73.94190</td>\n",
       "      <td>Private room</td>\n",
       "      <td>150</td>\n",
       "      <td>3</td>\n",
       "      <td>0</td>\n",
       "      <td>NaN</td>\n",
       "      <td>NaN</td>\n",
       "      <td>1</td>\n",
       "      <td>365</td>\n",
       "    </tr>\n",
       "    <tr>\n",
       "      <th>3</th>\n",
       "      <td>3831</td>\n",
       "      <td>Cozy Entire Floor of Brownstone</td>\n",
       "      <td>4869</td>\n",
       "      <td>LisaRoxanne</td>\n",
       "      <td>Brooklyn</td>\n",
       "      <td>Clinton Hill</td>\n",
       "      <td>40.68514</td>\n",
       "      <td>-73.95976</td>\n",
       "      <td>Entire home/apt</td>\n",
       "      <td>89</td>\n",
       "      <td>1</td>\n",
       "      <td>270</td>\n",
       "      <td>2019-07-05</td>\n",
       "      <td>4.64</td>\n",
       "      <td>1</td>\n",
       "      <td>194</td>\n",
       "    </tr>\n",
       "    <tr>\n",
       "      <th>4</th>\n",
       "      <td>5022</td>\n",
       "      <td>Entire Apt: Spacious Studio/Loft by central park</td>\n",
       "      <td>7192</td>\n",
       "      <td>Laura</td>\n",
       "      <td>Manhattan</td>\n",
       "      <td>East Harlem</td>\n",
       "      <td>40.79851</td>\n",
       "      <td>-73.94399</td>\n",
       "      <td>Entire home/apt</td>\n",
       "      <td>80</td>\n",
       "      <td>10</td>\n",
       "      <td>9</td>\n",
       "      <td>2018-11-19</td>\n",
       "      <td>0.10</td>\n",
       "      <td>1</td>\n",
       "      <td>0</td>\n",
       "    </tr>\n",
       "  </tbody>\n",
       "</table>\n",
       "</div>"
      ],
      "text/plain": [
       "     id                                              name  host_id  \\\n",
       "0  2539                Clean & quiet apt home by the park     2787   \n",
       "1  2595                             Skylit Midtown Castle     2845   \n",
       "2  3647               THE VILLAGE OF HARLEM....NEW YORK !     4632   \n",
       "3  3831                   Cozy Entire Floor of Brownstone     4869   \n",
       "4  5022  Entire Apt: Spacious Studio/Loft by central park     7192   \n",
       "\n",
       "     host_name neighbourhood_group neighbourhood  latitude  longitude  \\\n",
       "0         John            Brooklyn    Kensington  40.64749  -73.97237   \n",
       "1     Jennifer           Manhattan       Midtown  40.75362  -73.98377   \n",
       "2    Elisabeth           Manhattan        Harlem  40.80902  -73.94190   \n",
       "3  LisaRoxanne            Brooklyn  Clinton Hill  40.68514  -73.95976   \n",
       "4        Laura           Manhattan   East Harlem  40.79851  -73.94399   \n",
       "\n",
       "         room_type  price  minimum_nights  number_of_reviews last_review  \\\n",
       "0     Private room    149               1                  9  2018-10-19   \n",
       "1  Entire home/apt    225               1                 45  2019-05-21   \n",
       "2     Private room    150               3                  0         NaN   \n",
       "3  Entire home/apt     89               1                270  2019-07-05   \n",
       "4  Entire home/apt     80              10                  9  2018-11-19   \n",
       "\n",
       "   reviews_per_month  calculated_host_listings_count  availability_365  \n",
       "0               0.21                               6               365  \n",
       "1               0.38                               2               355  \n",
       "2                NaN                               1               365  \n",
       "3               4.64                               1               194  \n",
       "4               0.10                               1                 0  "
      ]
     },
     "execution_count": 10,
     "metadata": {},
     "output_type": "execute_result"
    }
   ],
   "source": [
    "df.head()"
   ]
  },
  {
   "cell_type": "markdown",
   "metadata": {},
   "source": [
    "# Cleaning up dataset\n",
    "\n",
    "Filling in the null entries and dropping columns that are unecessary"
   ]
  },
  {
   "cell_type": "code",
   "execution_count": 11,
   "metadata": {},
   "outputs": [],
   "source": [
    "df.drop([\"id\", \"latitude\", \"longitude\", \"last_review\", \"calculated_host_listings_count\", \"reviews_per_month\", \"minimum_nights\", \"availability_365\"], axis=1, inplace=True)\n",
    "df[\"name\"].fillna(\"missing\", inplace=True)"
   ]
  },
  {
   "cell_type": "markdown",
   "metadata": {},
   "source": [
    "# Dataset information\n",
    "\n",
    "There are 5 neighbourhood groups in the dataset.\n",
    "\n",
    "There are 3 room types in the dataset."
   ]
  },
  {
   "cell_type": "code",
   "execution_count": 18,
   "metadata": {},
   "outputs": [
    {
     "data": {
      "text/plain": [
       "array(['Brooklyn', 'Manhattan', 'Queens', 'Staten Island', 'Bronx'],\n",
       "      dtype=object)"
      ]
     },
     "execution_count": 18,
     "metadata": {},
     "output_type": "execute_result"
    }
   ],
   "source": [
    "df.neighbourhood_group.unique()"
   ]
  },
  {
   "cell_type": "code",
   "execution_count": 13,
   "metadata": {},
   "outputs": [
    {
     "data": {
      "text/plain": [
       "array(['Private room', 'Entire home/apt', 'Shared room'], dtype=object)"
      ]
     },
     "execution_count": 13,
     "metadata": {},
     "output_type": "execute_result"
    }
   ],
   "source": [
    "df.room_type.unique()"
   ]
  },
  {
   "cell_type": "markdown",
   "metadata": {},
   "source": [
    "\n",
    "# Visualisation\n",
    "\n",
    "A bar chart to show the number of listings per neighbourhood group.\n",
    "\n",
    "Manhattan has the most number of listings followed by Brooklyn.\n",
    "\n",
    "Staten Island in comparison has very few listings."
   ]
  },
  {
   "cell_type": "code",
   "execution_count": 16,
   "metadata": {},
   "outputs": [
    {
     "data": {
      "image/png": "[encoded data removed]",
      "text/plain": [
       "<Figure size 432x288 with 1 Axes>"
      ]
     },
     "metadata": {
      "needs_background": "light"
     },
     "output_type": "display_data"
    }
   ],
   "source": [
    "df.neighbourhood_group.value_counts().plot(kind=\"bar\")\n",
    "plt.title(\"Share of neighbourhood\")\n",
    "plt.xlabel(\"Neighbourhood Group\")\n",
    "plt.ylabel(\"Listing Count\");"
   ]
  },
  {
   "cell_type": "code",
   "execution_count": 21,
   "metadata": {
    "scrolled": true
   },
   "outputs": [
    {
     "data": {
      "image/png": "[encoded data removed]",
      "text/plain": [
       "<Figure size 1080x864 with 1 Axes>"
      ]
     },
     "metadata": {
      "needs_background": "light"
     },
     "output_type": "display_data"
    }
   ],
   "source": [
    "plt.figure(figsize=(15,12))\n",
    "sns.countplot(x = 'room_type',hue = \"neighbourhood_group\",data = df)\n",
    "plt.title(\"Room types occupied by the neighbourhood_group\");"
   ]
  },
  {
   "cell_type": "markdown",
   "metadata": {},
   "source": [
    "# Quick Sort\n",
    "\n",
    "Finding out the maximum and minimum number of reviews of the entire dataset, and sorting from minimum to maximum.\n",
    "\n",
    "Quick Sort is a sorting algorithm that uses the divide-and-conquer method. First a Pivot is selected. This is an element in the list to base the sorting on, usually the last element in the list. Secondly, the elements are divided into 3 sequences. 1: Elements < pivot 2: Elements = pivot 3: Elements > pivot Thirdly, sequence 1 and 3 are recursively sorted. Fourthly, the sorted sequences are combined together, from 1-3 in order.\n",
    "\n",
    "The following Quick Sort algorithm is done in place, which uses less memory as it does not have to create additional sequences. It works by moving the elements on the left forward, and the elements on the right backwards, by swapping those smaller than the pivot with those larger than the pivot respectively.\n",
    "\n",
    "The best case occurs when the selected pivot value is close to the middle of the sequence, and thus having evenly split sequences. The best case running time is then O(n log n). On average, the expected running time is also O(n log n). It is the fastest sorting algorithm for large datasets, like the one that is used here. The worst case occurs when the pivot is either the minimum or maximum element in the list and the running time is O(n2)"
   ]
  },
  {
   "cell_type": "code",
   "execution_count": 23,
   "metadata": {},
   "outputs": [],
   "source": [
    "def quick_sort(array, start, end): \n",
    "    if start >= end: \n",
    "        return \n",
    "    pivot = array[end]\n",
    "    left = start \n",
    "    right = end - 1\n",
    "    while left <= right: \n",
    "        while left <= right and array[left] < pivot: \n",
    "            left += 1\n",
    "        while left <= right and pivot < array[right]: \n",
    "            right -=1 \n",
    "        if left <= right:\n",
    "            array[left], array[right] = array[right], array[left]\n",
    "            left, right = left + 1, right - 1\n",
    "    array[left], array[end] = array[end], array[left]\n",
    "    quick_sort(array, start, left - 1)\n",
    "    quick_sort(array, left + 1, end)"
   ]
  },
  {
   "cell_type": "code",
   "execution_count": 24,
   "metadata": {},
   "outputs": [],
   "source": [
    "reviews = df[\"number_of_reviews\"].unique()"
   ]
  },
  {
   "cell_type": "code",
   "execution_count": 26,
   "metadata": {},
   "outputs": [
    {
     "name": "stdout",
     "output_type": "stream",
     "text": [
      "[0, 1, 2, 3, 4, 5, 6, 7, 8, 9, 10, 11, 12, 13, 14, 15, 16, 17, 18, 19, 20, 21, 22, 23, 24, 25, 26, 27, 28, 29, 30, 31, 32, 33, 34, 35, 36, 37, 38, 39, 40, 41, 42, 43, 44, 45, 46, 47, 48, 49, 50, 51, 52, 53, 54, 55, 56, 57, 58, 59, 60, 61, 62, 63, 64, 65, 66, 67, 68, 69, 70, 71, 72, 73, 74, 75, 76, 77, 78, 79, 80, 81, 82, 83, 84, 85, 86, 87, 88, 89, 90, 91, 92, 93, 94, 95, 96, 97, 98, 99, 100, 101, 102, 103, 104, 105, 106, 107, 108, 109, 110, 111, 112, 113, 114, 115, 116, 117, 118, 119, 120, 121, 122, 123, 124, 125, 126, 127, 128, 129, 130, 131, 132, 133, 134, 135, 136, 137, 138, 139, 140, 141, 142, 143, 144, 145, 146, 147, 148, 149, 150, 151, 152, 153, 154, 155, 156, 157, 158, 159, 160, 161, 162, 163, 164, 165, 166, 167, 168, 169, 170, 171, 172, 173, 174, 175, 176, 177, 178, 179, 180, 181, 182, 183, 184, 185, 186, 187, 188, 189, 190, 191, 192, 193, 194, 195, 196, 197, 198, 199, 200, 201, 202, 203, 204, 205, 206, 207, 208, 209, 210, 211, 212, 213, 214, 215, 216, 217, 218, 219, 220, 221, 222, 223, 224, 225, 226, 227, 228, 229, 230, 231, 232, 233, 234, 235, 236, 237, 238, 239, 240, 241, 242, 243, 244, 245, 246, 247, 248, 249, 250, 251, 252, 253, 254, 255, 256, 257, 258, 259, 260, 261, 262, 263, 264, 265, 266, 267, 268, 269, 270, 271, 272, 273, 274, 275, 276, 277, 278, 279, 280, 281, 282, 284, 285, 286, 287, 288, 289, 290, 291, 292, 294, 295, 296, 297, 298, 299, 302, 304, 305, 306, 307, 308, 309, 310, 313, 314, 315, 318, 319, 320, 321, 322, 323, 324, 325, 326, 327, 328, 330, 332, 333, 334, 335, 336, 338, 339, 340, 341, 347, 349, 350, 351, 352, 353, 354, 356, 357, 358, 360, 363, 365, 368, 370, 372, 374, 375, 378, 380, 385, 386, 388, 389, 392, 394, 395, 396, 397, 398, 401, 403, 404, 408, 411, 412, 414, 417, 424, 426, 430, 434, 436, 439, 441, 447, 448, 451, 454, 458, 459, 466, 467, 474, 480, 488, 510, 540, 543, 576, 594, 597, 607, 629]\n"
     ]
    }
   ],
   "source": [
    "reviewslist = []\n",
    "for i in reviews: \n",
    "    reviewslist.append(i)\n",
    "    \n",
    "quick_sort(reviewslist, 0, len(reviewslist)-1)\n",
    "print(reviewslist)"
   ]
  },
  {
   "cell_type": "markdown",
   "metadata": {},
   "source": [
    "# Sort by neighbourhood group and room type "
   ]
  },
  {
   "cell_type": "markdown",
   "metadata": {},
   "source": [
    "Private Room"
   ]
  },
  {
   "cell_type": "code",
   "execution_count": 31,
   "metadata": {},
   "outputs": [],
   "source": [
    "bpr = df[(df[\"neighbourhood_group\"] == 'Brooklyn') & (df[\"room_type\"] == 'Private room')]\n",
    "bpr_reviews = bpr['number_of_reviews'].unique()\n",
    "\n",
    "mpr = df[(df[\"neighbourhood_group\"] == 'Manhattan') & (df[\"room_type\"] == 'Private room')]\n",
    "mpr_reviews = mpr['number_of_reviews'].unique()\n",
    "\n",
    "qpr = df[(df[\"neighbourhood_group\"] == 'Queens') & (df[\"room_type\"] == 'Private room')]\n",
    "qpr_reviews = qpr['number_of_reviews'].unique()\n",
    "\n",
    "spr = df[(df[\"neighbourhood_group\"] == 'Staten Island') & (df[\"room_type\"] == 'Private room')]\n",
    "spr_reviews = spr['number_of_reviews'].unique()\n",
    "\n",
    "b2pr = df[(df[\"neighbourhood_group\"] == 'Bronx') & (df[\"room_type\"] == 'Private room')]\n",
    "b2pr_reviews = spr['number_of_reviews'].unique()"
   ]
  },
  {
   "cell_type": "markdown",
   "metadata": {},
   "source": [
    "Brooklyn"
   ]
  },
  {
   "cell_type": "code",
   "execution_count": 32,
   "metadata": {},
   "outputs": [
    {
     "name": "stdout",
     "output_type": "stream",
     "text": [
      "[0, 1, 2, 3, 4, 5, 6, 7, 8, 9, 10, 11, 12, 13, 14, 15, 16, 17, 18, 19, 20, 21, 22, 23, 24, 25, 26, 27, 28, 29, 30, 31, 32, 33, 34, 35, 36, 37, 38, 39, 40, 41, 42, 43, 44, 45, 46, 47, 48, 49, 50, 51, 52, 53, 54, 55, 56, 57, 58, 59, 60, 61, 62, 63, 64, 65, 66, 67, 68, 69, 70, 71, 72, 73, 74, 75, 76, 77, 78, 79, 80, 81, 82, 83, 84, 85, 86, 87, 88, 89, 90, 91, 92, 93, 94, 95, 96, 97, 98, 99, 100, 101, 102, 103, 104, 105, 106, 107, 108, 109, 110, 111, 112, 113, 114, 115, 116, 117, 118, 119, 120, 121, 122, 123, 124, 125, 126, 127, 128, 129, 130, 131, 132, 133, 134, 135, 136, 137, 138, 139, 140, 141, 142, 143, 144, 145, 146, 147, 148, 149, 150, 151, 152, 153, 154, 155, 156, 157, 158, 159, 160, 162, 163, 164, 165, 166, 167, 168, 169, 170, 171, 172, 173, 174, 175, 176, 177, 179, 180, 181, 182, 183, 184, 186, 188, 189, 190, 191, 192, 193, 194, 195, 197, 199, 200, 201, 202, 203, 204, 205, 206, 207, 208, 209, 210, 211, 213, 214, 215, 216, 219, 220, 221, 222, 224, 225, 226, 227, 228, 229, 230, 232, 236, 237, 238, 241, 244, 245, 247, 248, 251, 254, 255, 256, 257, 258, 260, 262, 263, 269, 270, 272, 273, 279, 280, 284, 291, 294, 295, 296, 324, 327, 332, 335, 336, 339, 340, 349, 350, 351, 354, 356, 357, 360, 372, 374, 397, 401, 426, 480]\n"
     ]
    }
   ],
   "source": [
    "bpr_reviewslist = []\n",
    "for i in bpr_reviews: \n",
    "    bpr_reviewslist.append(i)\n",
    "\n",
    "quick_sort(bpr_reviewslist, 0, len(bpr_reviewslist) - 1)\n",
    "print(bpr_reviewslist)"
   ]
  },
  {
   "cell_type": "markdown",
   "metadata": {},
   "source": [
    "Manhattan"
   ]
  },
  {
   "cell_type": "code",
   "execution_count": 33,
   "metadata": {},
   "outputs": [
    {
     "name": "stdout",
     "output_type": "stream",
     "text": [
      "[0, 1, 2, 3, 4, 5, 6, 7, 8, 9, 10, 11, 12, 13, 14, 15, 16, 17, 18, 19, 20, 21, 22, 23, 24, 25, 26, 27, 28, 29, 30, 31, 32, 33, 34, 35, 36, 37, 38, 39, 40, 41, 42, 43, 44, 45, 46, 47, 48, 49, 50, 51, 52, 53, 54, 55, 56, 57, 58, 59, 60, 61, 62, 63, 64, 65, 66, 67, 68, 69, 70, 71, 72, 73, 74, 75, 76, 77, 78, 79, 80, 81, 82, 83, 84, 85, 86, 87, 88, 89, 90, 91, 92, 93, 94, 95, 96, 97, 98, 99, 100, 101, 102, 103, 104, 105, 106, 107, 108, 109, 110, 111, 112, 113, 114, 115, 116, 117, 118, 119, 120, 121, 122, 123, 124, 125, 126, 127, 128, 129, 130, 131, 132, 133, 134, 135, 136, 137, 138, 139, 140, 141, 142, 143, 144, 145, 146, 147, 148, 149, 150, 151, 152, 153, 154, 155, 156, 157, 158, 159, 160, 161, 162, 163, 164, 165, 166, 167, 168, 169, 170, 171, 172, 173, 174, 175, 176, 177, 178, 179, 180, 182, 183, 184, 185, 186, 187, 188, 189, 190, 191, 192, 193, 194, 195, 196, 198, 199, 200, 201, 202, 203, 204, 205, 206, 207, 208, 209, 210, 211, 212, 213, 214, 216, 218, 219, 220, 221, 222, 223, 225, 226, 227, 228, 229, 231, 233, 235, 239, 242, 243, 244, 245, 246, 247, 248, 249, 250, 251, 254, 255, 257, 259, 260, 261, 262, 263, 265, 267, 269, 270, 271, 272, 273, 274, 275, 277, 278, 280, 285, 288, 289, 290, 292, 295, 297, 298, 307, 309, 315, 318, 319, 322, 323, 325, 326, 327, 330, 334, 338, 347, 353, 360, 365, 375, 380, 389, 394, 395, 396, 414, 430, 439, 451, 458, 540, 594, 597, 607]\n"
     ]
    }
   ],
   "source": [
    "mpr_reviewslist = []\n",
    "for i in mpr_reviews: \n",
    "    mpr_reviewslist.append(i)\n",
    "\n",
    "quick_sort(mpr_reviewslist, 0, len(mpr_reviewslist) - 1)\n",
    "print(mpr_reviewslist)"
   ]
  },
  {
   "cell_type": "markdown",
   "metadata": {},
   "source": [
    "Queens"
   ]
  },
  {
   "cell_type": "code",
   "execution_count": 34,
   "metadata": {},
   "outputs": [
    {
     "name": "stdout",
     "output_type": "stream",
     "text": [
      "[0, 1, 2, 3, 4, 5, 6, 7, 8, 9, 10, 11, 12, 13, 14, 15, 16, 17, 18, 19, 20, 21, 22, 23, 24, 25, 26, 27, 28, 29, 30, 31, 32, 33, 34, 35, 36, 37, 38, 39, 40, 41, 42, 43, 44, 45, 46, 47, 48, 49, 50, 51, 52, 53, 54, 55, 56, 57, 58, 59, 60, 61, 62, 63, 64, 65, 66, 67, 68, 69, 70, 71, 72, 73, 74, 75, 76, 77, 78, 79, 80, 81, 82, 83, 84, 85, 86, 87, 88, 89, 90, 91, 92, 94, 95, 96, 97, 98, 99, 100, 101, 102, 103, 104, 105, 106, 107, 108, 109, 110, 111, 112, 113, 114, 115, 116, 117, 119, 120, 122, 123, 124, 125, 126, 127, 128, 129, 130, 131, 132, 133, 134, 135, 136, 137, 138, 140, 141, 142, 143, 144, 145, 148, 150, 151, 153, 154, 156, 158, 160, 161, 162, 164, 165, 166, 168, 170, 173, 175, 177, 178, 179, 183, 184, 185, 186, 187, 188, 189, 190, 191, 201, 204, 207, 208, 209, 210, 211, 212, 214, 218, 219, 220, 222, 224, 231, 235, 239, 240, 243, 244, 248, 251, 254, 255, 257, 258, 262, 270, 274, 275, 281, 296, 302, 304, 305, 306, 325, 333, 336, 341, 347, 356, 368, 375, 386, 392, 403, 408, 411, 412, 417, 424, 426, 430, 436, 448, 459, 466, 474, 510, 543, 576, 629]\n"
     ]
    }
   ],
   "source": [
    "qpr_reviewslist = []\n",
    "for i in qpr_reviews: \n",
    "    qpr_reviewslist.append(i)\n",
    "\n",
    "quick_sort(qpr_reviewslist, 0, len(qpr_reviewslist) - 1)\n",
    "print(qpr_reviewslist)"
   ]
  },
  {
   "cell_type": "markdown",
   "metadata": {},
   "source": [
    "Staten Island"
   ]
  },
  {
   "cell_type": "code",
   "execution_count": 35,
   "metadata": {},
   "outputs": [
    {
     "name": "stdout",
     "output_type": "stream",
     "text": [
      "[0, 1, 2, 3, 4, 5, 6, 7, 8, 9, 10, 11, 12, 13, 16, 17, 18, 19, 20, 21, 23, 24, 25, 26, 29, 30, 32, 34, 36, 37, 38, 39, 40, 42, 45, 47, 48, 50, 51, 53, 56, 59, 60, 61, 63, 64, 65, 73, 74, 77, 80, 82, 86, 88, 90, 93, 100, 112, 137, 145, 147, 149, 151, 157, 166, 177, 193, 234, 333]\n"
     ]
    }
   ],
   "source": [
    "spr_reviewslist = []\n",
    "for i in spr_reviews: \n",
    "    spr_reviewslist.append(i)\n",
    "\n",
    "quick_sort(spr_reviewslist, 0, len(spr_reviewslist) - 1)\n",
    "print(spr_reviewslist)"
   ]
  },
  {
   "cell_type": "markdown",
   "metadata": {},
   "source": [
    "Bronx"
   ]
  },
  {
   "cell_type": "code",
   "execution_count": 36,
   "metadata": {},
   "outputs": [
    {
     "name": "stdout",
     "output_type": "stream",
     "text": [
      "[0, 1, 2, 3, 4, 5, 6, 7, 8, 9, 10, 11, 12, 13, 16, 17, 18, 19, 20, 21, 23, 24, 25, 26, 29, 30, 32, 34, 36, 37, 38, 39, 40, 42, 45, 47, 48, 50, 51, 53, 56, 59, 60, 61, 63, 64, 65, 73, 74, 77, 80, 82, 86, 88, 90, 93, 100, 112, 137, 145, 147, 149, 151, 157, 166, 177, 193, 234, 333]\n"
     ]
    }
   ],
   "source": [
    "b2pr_reviewslist = []\n",
    "for i in b2pr_reviews: \n",
    "    b2pr_reviewslist.append(i)\n",
    "\n",
    "quick_sort(b2pr_reviewslist, 0, len(b2pr_reviewslist) - 1)\n",
    "print(b2pr_reviewslist)"
   ]
  },
  {
   "cell_type": "markdown",
   "metadata": {},
   "source": [
    "Entire home/apartment"
   ]
  },
  {
   "cell_type": "code",
   "execution_count": 37,
   "metadata": {},
   "outputs": [],
   "source": [
    "beh = df[(df[\"neighbourhood_group\"] == 'Brooklyn') & (df[\"room_type\"] == 'Entire home/apt')]\n",
    "beh_reviews = beh[\"number_of_reviews\"].unique()\n",
    "\n",
    "meh = df[(df[\"neighbourhood_group\"] == 'Manhattan') & (df[\"room_type\"] == 'Entire home/apt')]\n",
    "meh_reviews = meh['number_of_reviews'].unique()\n",
    "\n",
    "qeh = df[(df[\"neighbourhood_group\"] == 'Queens') & (df[\"room_type\"] == 'Entire home/apt')]\n",
    "qeh_reviews = qeh['number_of_reviews'].unique()\n",
    "\n",
    "seh = df[(df[\"neighbourhood_group\"] == 'Staten Island') & (df[\"room_type\"] == 'Entire home/apt')]\n",
    "seh_reviews = seh['number_of_reviews'].unique()\n",
    "\n",
    "b2eh = df[(df[\"neighbourhood_group\"] == 'Bronx') & (df[\"room_type\"] == 'Entire home/apt')]\n",
    "b2eh_reviews = b2eh['number_of_reviews'].unique()"
   ]
  },
  {
   "cell_type": "markdown",
   "metadata": {},
   "source": [
    "Brooklyn"
   ]
  },
  {
   "cell_type": "code",
   "execution_count": 38,
   "metadata": {},
   "outputs": [
    {
     "name": "stdout",
     "output_type": "stream",
     "text": [
      "[0, 1, 2, 3, 4, 5, 6, 7, 8, 9, 10, 11, 12, 13, 14, 15, 16, 17, 18, 19, 20, 21, 22, 23, 24, 25, 26, 27, 28, 29, 30, 31, 32, 33, 34, 35, 36, 37, 38, 39, 40, 41, 42, 43, 44, 45, 46, 47, 48, 49, 50, 51, 52, 53, 54, 55, 56, 57, 58, 59, 60, 61, 62, 63, 64, 65, 66, 67, 68, 69, 70, 71, 72, 73, 74, 75, 76, 77, 78, 79, 80, 81, 82, 83, 84, 85, 86, 87, 88, 89, 90, 91, 92, 93, 94, 95, 96, 97, 98, 99, 100, 101, 102, 103, 104, 105, 106, 107, 108, 109, 110, 111, 112, 113, 114, 115, 116, 117, 118, 119, 120, 121, 122, 123, 124, 125, 126, 127, 128, 129, 130, 131, 132, 133, 134, 135, 136, 137, 138, 139, 140, 141, 142, 143, 144, 145, 146, 147, 148, 149, 150, 151, 152, 153, 154, 155, 156, 157, 158, 159, 160, 161, 162, 163, 164, 165, 166, 167, 168, 169, 170, 171, 172, 173, 174, 175, 176, 177, 178, 179, 180, 181, 182, 183, 184, 185, 186, 187, 188, 189, 190, 191, 192, 193, 194, 195, 197, 198, 199, 200, 201, 202, 203, 204, 205, 206, 207, 208, 209, 210, 211, 213, 214, 215, 216, 218, 219, 220, 221, 222, 223, 224, 225, 226, 227, 228, 229, 230, 231, 232, 233, 234, 236, 237, 238, 239, 240, 242, 243, 248, 249, 250, 252, 253, 254, 257, 259, 264, 266, 267, 268, 270, 271, 273, 279, 281, 282, 284, 287, 294, 296, 302, 305, 308, 309, 314, 315, 319, 320, 323, 324, 328, 334, 338, 349, 350, 358, 363, 370, 378, 385, 398, 404, 467, 488]\n"
     ]
    }
   ],
   "source": [
    "beh_reviewslist = []\n",
    "for i in beh_reviews: \n",
    "    beh_reviewslist.append(i)\n",
    "\n",
    "quick_sort(beh_reviewslist, 0, len(beh_reviewslist) - 1)\n",
    "print(beh_reviewslist)"
   ]
  },
  {
   "cell_type": "markdown",
   "metadata": {},
   "source": [
    "Manhattan"
   ]
  },
  {
   "cell_type": "code",
   "execution_count": 39,
   "metadata": {},
   "outputs": [
    {
     "name": "stdout",
     "output_type": "stream",
     "text": [
      "[0, 1, 2, 3, 4, 5, 6, 7, 8, 9, 10, 11, 12, 13, 14, 15, 16, 17, 18, 19, 20, 21, 22, 23, 24, 25, 26, 27, 28, 29, 30, 31, 32, 33, 34, 35, 36, 37, 38, 39, 40, 41, 42, 43, 44, 45, 46, 47, 48, 49, 50, 51, 52, 53, 54, 55, 56, 57, 58, 59, 60, 61, 62, 63, 64, 65, 66, 67, 68, 69, 70, 71, 72, 73, 74, 75, 76, 77, 78, 79, 80, 81, 82, 83, 84, 85, 86, 87, 88, 89, 90, 91, 92, 93, 94, 95, 96, 97, 98, 99, 100, 101, 102, 103, 104, 105, 106, 107, 108, 109, 110, 111, 112, 113, 114, 115, 116, 117, 118, 119, 120, 121, 122, 123, 124, 125, 126, 127, 128, 129, 130, 131, 132, 133, 134, 135, 136, 137, 138, 139, 140, 141, 142, 143, 144, 145, 146, 147, 148, 149, 150, 151, 152, 153, 154, 155, 156, 157, 158, 159, 160, 161, 162, 163, 164, 165, 166, 167, 168, 169, 170, 171, 172, 173, 174, 175, 176, 177, 178, 179, 180, 181, 182, 183, 185, 186, 187, 188, 190, 191, 193, 194, 195, 196, 197, 198, 200, 201, 202, 203, 204, 205, 206, 207, 208, 209, 210, 211, 213, 214, 216, 219, 220, 221, 222, 225, 226, 227, 229, 230, 232, 233, 234, 235, 237, 238, 240, 241, 242, 243, 244, 246, 249, 252, 258, 260, 261, 265, 266, 268, 269, 271, 272, 276, 280, 281, 285, 286, 287, 289, 292, 297, 299, 314, 319, 320, 321, 322, 353, 358, 388, 401, 403, 447]\n"
     ]
    }
   ],
   "source": [
    "meh_reviewslist = []\n",
    "for i in meh_reviews: \n",
    "    meh_reviewslist.append(i)\n",
    "\n",
    "quick_sort(meh_reviewslist, 0, len(meh_reviewslist) - 1)\n",
    "print(meh_reviewslist)"
   ]
  },
  {
   "cell_type": "markdown",
   "metadata": {},
   "source": [
    "Queens"
   ]
  },
  {
   "cell_type": "code",
   "execution_count": 40,
   "metadata": {},
   "outputs": [
    {
     "name": "stdout",
     "output_type": "stream",
     "text": [
      "[0, 1, 2, 3, 4, 5, 6, 7, 8, 9, 10, 11, 12, 13, 14, 15, 16, 17, 18, 19, 20, 21, 22, 23, 24, 25, 26, 27, 28, 29, 30, 31, 32, 33, 34, 35, 36, 37, 38, 39, 40, 41, 42, 43, 44, 45, 46, 47, 48, 49, 50, 51, 52, 53, 54, 55, 56, 57, 58, 59, 60, 61, 62, 63, 64, 65, 66, 67, 68, 69, 70, 71, 72, 73, 74, 75, 76, 77, 78, 79, 80, 81, 82, 83, 84, 85, 86, 87, 88, 89, 90, 91, 92, 93, 94, 95, 96, 97, 99, 100, 101, 102, 103, 104, 105, 106, 107, 108, 109, 110, 111, 112, 113, 114, 115, 116, 117, 118, 119, 120, 121, 122, 123, 124, 126, 128, 129, 130, 131, 132, 133, 134, 135, 137, 138, 139, 141, 142, 143, 144, 145, 146, 147, 149, 150, 151, 152, 153, 154, 155, 156, 157, 158, 160, 161, 162, 166, 169, 171, 172, 175, 176, 177, 182, 184, 185, 186, 188, 192, 196, 197, 198, 202, 204, 206, 209, 212, 214, 216, 217, 227, 229, 237, 239, 240, 252, 256, 257, 259, 260, 262, 268, 272, 279, 289, 310, 313, 352, 414, 434, 441]\n"
     ]
    }
   ],
   "source": [
    "qeh_reviewslist = []\n",
    "for i in qeh_reviews: \n",
    "    qeh_reviewslist.append(i)\n",
    "\n",
    "quick_sort(qeh_reviewslist, 0, len(qeh_reviewslist) - 1)\n",
    "print(qeh_reviewslist)"
   ]
  },
  {
   "cell_type": "markdown",
   "metadata": {},
   "source": [
    "Staten Island"
   ]
  },
  {
   "cell_type": "code",
   "execution_count": 41,
   "metadata": {},
   "outputs": [
    {
     "name": "stdout",
     "output_type": "stream",
     "text": [
      "[0, 1, 2, 3, 4, 5, 6, 7, 8, 9, 10, 11, 12, 13, 14, 15, 16, 17, 18, 19, 20, 21, 22, 23, 24, 25, 26, 27, 29, 30, 35, 36, 37, 39, 43, 45, 47, 49, 51, 52, 54, 59, 61, 62, 63, 68, 69, 70, 76, 79, 81, 82, 83, 87, 96, 97, 103, 105, 108, 110, 116, 117, 118, 129, 131, 132, 136, 139, 147, 177, 196, 242]\n"
     ]
    }
   ],
   "source": [
    "seh_reviewslist = []\n",
    "for i in seh_reviews: \n",
    "    seh_reviewslist.append(i)\n",
    "\n",
    "quick_sort(seh_reviewslist, 0, len(seh_reviewslist) - 1)\n",
    "print(seh_reviewslist)"
   ]
  },
  {
   "cell_type": "markdown",
   "metadata": {},
   "source": [
    "Bronx"
   ]
  },
  {
   "cell_type": "code",
   "execution_count": 42,
   "metadata": {},
   "outputs": [
    {
     "name": "stdout",
     "output_type": "stream",
     "text": [
      "[0, 1, 2, 3, 4, 5, 6, 7, 8, 9, 10, 11, 12, 13, 14, 15, 16, 17, 18, 19, 20, 22, 23, 24, 25, 26, 27, 28, 29, 30, 31, 32, 33, 34, 35, 36, 37, 38, 40, 41, 42, 43, 44, 45, 46, 47, 48, 50, 54, 57, 58, 59, 61, 62, 66, 67, 68, 69, 70, 71, 73, 75, 76, 79, 80, 81, 82, 83, 84, 85, 86, 89, 90, 92, 94, 95, 98, 100, 103, 104, 105, 106, 107, 112, 114, 116, 118, 119, 121, 132, 142, 147, 152, 170, 185, 189, 192, 197, 199, 205, 206, 227, 266, 271]\n"
     ]
    }
   ],
   "source": [
    "b2eh_reviewslist = []\n",
    "for i in b2eh_reviews: \n",
    "    b2eh_reviewslist.append(i)\n",
    "\n",
    "quick_sort(b2eh_reviewslist, 0, len(b2eh_reviewslist) - 1)\n",
    "print(b2eh_reviewslist)"
   ]
  },
  {
   "cell_type": "markdown",
   "metadata": {},
   "source": [
    "Shared Room"
   ]
  },
  {
   "cell_type": "code",
   "execution_count": 43,
   "metadata": {},
   "outputs": [],
   "source": [
    "bsr = df[(df[\"neighbourhood_group\"] == 'Brooklyn') & (df[\"room_type\"] == 'Shared room')]\n",
    "bsr_reviews = bsr[\"number_of_reviews\"].unique()\n",
    "\n",
    "msr = df[(df[\"neighbourhood_group\"] == 'Manhattan') & (df[\"room_type\"] == 'Shared room')]\n",
    "msr_reviews = msr['number_of_reviews'].unique()\n",
    "\n",
    "qsr = df[(df[\"neighbourhood_group\"] == 'Queens') & (df[\"room_type\"] == 'Shared room')]\n",
    "qsr_reviews = qsr['number_of_reviews'].unique()\n",
    "\n",
    "ssr = df[(df[\"neighbourhood_group\"] == 'Staten Island') & (df[\"room_type\"] == 'Shared room')]\n",
    "ssr_reviews = ssr['number_of_reviews'].unique()\n",
    "\n",
    "b2sr = df[(df[\"neighbourhood_group\"] == 'Bronx') & (df[\"room_type\"] == 'Shared room')]\n",
    "b2sr_reviews = b2sr['number_of_reviews'].unique()"
   ]
  },
  {
   "cell_type": "markdown",
   "metadata": {},
   "source": [
    "Brooklyn"
   ]
  },
  {
   "cell_type": "code",
   "execution_count": 45,
   "metadata": {},
   "outputs": [
    {
     "name": "stdout",
     "output_type": "stream",
     "text": [
      "[0, 1, 2, 3, 4, 5, 6, 7, 8, 9, 10, 11, 12, 13, 14, 15, 16, 17, 18, 19, 20, 21, 22, 23, 24, 25, 26, 27, 28, 31, 32, 33, 34, 35, 37, 41, 44, 45, 46, 47, 48, 55, 57, 59, 64, 69, 73, 76, 80, 81, 83, 91, 99, 102, 103, 104, 105, 110, 114, 116, 117, 119, 120, 124, 126, 135, 146, 155, 197, 236]\n"
     ]
    }
   ],
   "source": [
    "bsr_reviewslist = []\n",
    "for i in bsr_reviews: \n",
    "    bsr_reviewslist.append(i)\n",
    "\n",
    "quick_sort(bsr_reviewslist, 0, len(bsr_reviewslist) - 1)\n",
    "print(bsr_reviewslist)"
   ]
  },
  {
   "cell_type": "markdown",
   "metadata": {},
   "source": [
    "Manhattan"
   ]
  },
  {
   "cell_type": "code",
   "execution_count": 46,
   "metadata": {},
   "outputs": [
    {
     "name": "stdout",
     "output_type": "stream",
     "text": [
      "[0, 1, 2, 3, 4, 5, 6, 7, 8, 9, 10, 11, 12, 13, 14, 15, 16, 17, 18, 19, 20, 21, 22, 23, 24, 25, 27, 28, 29, 30, 31, 32, 33, 34, 35, 36, 37, 38, 39, 40, 42, 43, 44, 47, 48, 49, 50, 51, 52, 53, 54, 55, 56, 57, 58, 59, 60, 61, 62, 63, 65, 66, 67, 68, 69, 73, 76, 81, 84, 88, 90, 93, 94, 101, 103, 104, 105, 107, 108, 112, 115, 117, 118, 125, 126, 131, 134, 136, 158, 168, 181, 205, 214, 225, 228, 229]\n"
     ]
    }
   ],
   "source": [
    "msr_reviewslist = []\n",
    "for i in msr_reviews: \n",
    "    msr_reviewslist.append(i)\n",
    "\n",
    "quick_sort(msr_reviewslist, 0, len(msr_reviewslist) - 1)\n",
    "print(msr_reviewslist)"
   ]
  },
  {
   "cell_type": "markdown",
   "metadata": {},
   "source": [
    "Queens"
   ]
  },
  {
   "cell_type": "code",
   "execution_count": 47,
   "metadata": {},
   "outputs": [
    {
     "name": "stdout",
     "output_type": "stream",
     "text": [
      "[0, 1, 2, 3, 4, 5, 6, 7, 8, 9, 10, 11, 12, 13, 14, 15, 16, 17, 18, 19, 20, 21, 22, 24, 25, 26, 28, 30, 34, 36, 38, 39, 41, 45, 51, 54, 56, 63, 65, 68, 120, 127, 224, 454]\n"
     ]
    }
   ],
   "source": [
    "qsr_reviewslist = []\n",
    "for i in qsr_reviews: \n",
    "    qsr_reviewslist.append(i)\n",
    "\n",
    "quick_sort(qsr_reviewslist, 0, len(qsr_reviewslist) - 1)\n",
    "print(qsr_reviewslist)"
   ]
  },
  {
   "cell_type": "markdown",
   "metadata": {},
   "source": [
    "Staten Island"
   ]
  },
  {
   "cell_type": "code",
   "execution_count": 48,
   "metadata": {},
   "outputs": [
    {
     "name": "stdout",
     "output_type": "stream",
     "text": [
      "[0, 1, 2, 9]\n"
     ]
    }
   ],
   "source": [
    "ssr_reviewslist = []\n",
    "for i in ssr_reviews: \n",
    "    ssr_reviewslist.append(i)\n",
    "\n",
    "quick_sort(ssr_reviewslist, 0, len(ssr_reviewslist) - 1)\n",
    "print(ssr_reviewslist)"
   ]
  },
  {
   "cell_type": "markdown",
   "metadata": {},
   "source": [
    "Bronx"
   ]
  },
  {
   "cell_type": "code",
   "execution_count": 49,
   "metadata": {},
   "outputs": [
    {
     "name": "stdout",
     "output_type": "stream",
     "text": [
      "[0, 1, 2, 3, 4, 5, 6, 7, 8, 9, 10, 11, 16, 17, 18, 20, 26, 29, 116]\n"
     ]
    }
   ],
   "source": [
    "b2sr_reviewslist = []\n",
    "for i in b2sr_reviews: \n",
    "    b2sr_reviewslist.append(i)\n",
    "\n",
    "quick_sort(b2sr_reviewslist, 0, len(b2sr_reviewslist) - 1)\n",
    "print(b2sr_reviewslist)"
   ]
  },
  {
   "cell_type": "markdown",
   "metadata": {},
   "source": [
    "# Binary Search Tree\n",
    "\n",
    "To find out maximum and minimum price, and sort the price list, we use a Binary Search Tree.\n",
    "\n",
    "A Binary Search Tree is a data structure where each node has at most two children, and the the value of the left-child is less than the value of its parent, and the value of the right-child is greater than the value of its parent.\n",
    "\n",
    "Inorder traversal of the Binary Search Tree visits positions in increasing order of the keys. Using the Inorder method, we can sort the price list in ascending order, from minimum to maximum price.\n",
    "\n",
    "The Search method runs through the tree and finds the particular value the user wants to look for. It returns True if the value is found, and False if the value is not found. If the particular value is less than the root value, the algorithm will search for it in the left subtree. If the particular value is greater than the root value, the algorithm will search for it in the right subtree. The algorithm will continue searching for the value by comparing it to the parent value then moving to the left or right child accordingly.\n",
    "\n",
    "Searching and insertion depend on the height of the tree, as it starts at the root node and makes its way down the tree, therefore it takes a time of O(h). On average, a Binary Search Tree is expected to have height O(log n) so the running time is O(log n). The best case running time is also O(log n) when the tree is balanced and full. The worst case running time is O(n) when the tree is skewed."
   ]
  },
  {
   "cell_type": "code",
   "execution_count": 50,
   "metadata": {},
   "outputs": [],
   "source": [
    "class BinarySearchTree: \n",
    "    def __init__(self, key = None): \n",
    "        self.key = key \n",
    "        self.left = None \n",
    "        self.right = None \n",
    "    \n",
    "    def add(self, key): \n",
    "        if not self.key: \n",
    "            self.key = key \n",
    "            return \n",
    "        \n",
    "        if self.key == key: \n",
    "            return \n",
    "        \n",
    "        if key < self.key: \n",
    "            if self.left: \n",
    "                self.left.add(key)\n",
    "                return \n",
    "            self.left = BinarySearchTree(key)\n",
    "            return \n",
    "        \n",
    "        if self.right: \n",
    "            self.right.add(key)\n",
    "            return \n",
    "        self.right = BinarySearchTree(key)\n",
    "    \n",
    "    def get_min(self):\n",
    "        current = self\n",
    "        while current.left is not None: \n",
    "            current = current.left \n",
    "        return current.key \n",
    "    \n",
    "    def get_max(self): \n",
    "        current = self \n",
    "        while current.right is not None: \n",
    "            current = current.right \n",
    "        return current.key \n",
    "    \n",
    "    def inorder(self, keys): \n",
    "        if self.left is not None: \n",
    "            self.left.inorder(keys)\n",
    "        if self.key is not None: \n",
    "            keys.append(self.key)\n",
    "        if self.right is not None: \n",
    "            self.right.inorder(keys)\n",
    "        return keys\n",
    "    \n",
    "    def search(self, key): \n",
    "        if key == self.key: \n",
    "            return True\n",
    "        if key < self.key:\n",
    "            if self.left == None: \n",
    "                return False\n",
    "            return self.left.search(key)\n",
    "        if key > self.key: \n",
    "            if self.right == None: \n",
    "                return False\n",
    "            return self.right.search(key)"
   ]
  },
  {
   "cell_type": "code",
   "execution_count": 59,
   "metadata": {},
   "outputs": [
    {
     "name": "stdout",
     "output_type": "stream",
     "text": [
      "[0, 10, 11, 12, 13, 15, 16, 18, 19, 20, 21, 22, 23, 24, 25, 26, 27, 28, 29, 30, 31, 32, 33, 34, 35, 36, 37, 38, 39, 40, 41, 42, 43, 44, 45, 46, 47, 48, 49, 50, 51, 52, 53, 54, 55, 56, 57, 58, 59, 60, 61, 62, 63, 64, 65, 66, 67, 68, 69, 70, 71, 72, 73, 74, 75, 76, 77, 78, 79, 80, 81, 82, 83, 84, 85, 86, 87, 88, 89, 90, 91, 92, 93, 94, 95, 96, 97, 98, 99, 100, 101, 102, 103, 104, 105, 106, 107, 108, 109, 110, 111, 112, 113, 114, 115, 116, 117, 118, 119, 120, 121, 122, 123, 124, 125, 126, 127, 128, 129, 130, 131, 132, 133, 134, 135, 136, 137, 138, 139, 140, 141, 142, 143, 144, 145, 146, 147, 148, 149, 150, 151, 152, 153, 154, 155, 156, 157, 158, 159, 160, 161, 162, 163, 164, 165, 166, 167, 168, 169, 170, 171, 172, 173, 174, 175, 176, 177, 178, 179, 180, 181, 182, 183, 184, 185, 186, 187, 188, 189, 190, 191, 192, 193, 194, 195, 196, 197, 198, 199, 200, 201, 202, 203, 204, 205, 206, 207, 208, 209, 210, 211, 212, 213, 214, 215, 216, 217, 218, 219, 220, 221, 222, 223, 224, 225, 226, 227, 228, 229, 230, 231, 232, 233, 234, 235, 236, 237, 238, 239, 240, 241, 242, 243, 244, 245, 246, 247, 248, 249, 250, 251, 252, 253, 254, 255, 256, 257, 258, 259, 260, 261, 262, 263, 264, 265, 266, 267, 268, 269, 270, 271, 272, 273, 274, 275, 276, 277, 278, 279, 280, 281, 282, 283, 284, 285, 287, 288, 289, 290, 291, 292, 293, 294, 295, 296, 297, 298, 299, 300, 301, 302, 303, 304, 305, 306, 307, 308, 309, 310, 311, 312, 313, 314, 315, 316, 317, 318, 319, 320, 321, 322, 323, 324, 325, 327, 328, 329, 330, 331, 332, 333, 334, 335, 336, 337, 338, 339, 340, 341, 342, 343, 344, 345, 346, 347, 348, 349, 350, 352, 353, 355, 356, 358, 359, 360, 361, 362, 365, 367, 369, 370, 372, 373, 374, 375, 376, 377, 378, 379, 380, 381, 382, 383, 385, 386, 387, 388, 389, 390, 392, 393, 394, 395, 396, 397, 398, 399, 400, 402, 403, 404, 407, 408, 409, 410, 412, 414, 415, 416, 417, 418, 419, 420, 421, 422, 423, 424, 425, 426, 428, 429, 430, 431, 432, 433, 434, 435, 436, 438, 439, 440, 442, 443, 444, 445, 446, 447, 449, 450, 451, 452, 453, 454, 455, 459, 460, 462, 463, 465, 466, 468, 469, 470, 471, 472, 474, 475, 477, 478, 479, 480, 481, 483, 484, 485, 487, 488, 489, 490, 495, 496, 497, 498, 499, 500, 503, 505, 506, 509, 510, 515, 519, 520, 524, 525, 530, 531, 534, 539, 540, 545, 549, 550, 555, 559, 560, 561, 573, 575, 577, 578, 580, 583, 584, 585, 587, 589, 590, 595, 599, 600, 612, 615, 616, 619, 620, 625, 639, 640, 643, 647, 649, 650, 655, 659, 670, 672, 675, 680, 688, 689, 690, 692, 695, 699, 700, 714, 718, 720, 725, 737, 745, 748, 749, 750, 760, 766, 780, 785, 789, 790, 794, 795, 799, 800, 805, 814, 820, 822, 825, 830, 840, 843, 848, 850, 860, 875, 888, 890, 894, 895, 898, 899, 900, 913, 920, 930, 935, 945, 949, 950, 956, 974, 975, 980, 985, 990, 995, 999, 1000, 1002, 1020, 1046, 1050, 1066, 1067, 1075, 1080, 1095, 1099, 1100, 1115, 1145, 1150, 1170, 1177, 1195, 1200, 1250, 1295, 1299, 1300, 1306, 1308, 1315, 1333, 1350, 1369, 1395, 1400, 1450, 1475, 1485, 1494, 1495, 1497, 1500, 1550, 1599, 1600, 1680, 1700, 1731, 1749, 1750, 1763, 1795, 1799, 1800, 1880, 1899, 1900, 1978, 1999, 2000, 2010, 2100, 2103, 2200, 2250, 2300, 2350, 2400, 2500, 2545, 2590, 2600, 2626, 2695, 2750, 2800, 2850, 2900, 2990, 2995, 2999, 3000, 3200, 3210, 3512, 3518, 3600, 3613, 3750, 3800, 3900, 4000, 4100, 4160, 4200, 4500, 5000, 5100, 5250, 6000, 6419, 6500, 6800, 7500, 7703, 8000, 8500, 9999, 10000]\n",
      " \n",
      "The minimum price is: $ 0\n",
      "The maximum price is: $ 10000\n"
     ]
    }
   ],
   "source": [
    "price = df['price'].unique()\n",
    "\n",
    "pricelist = BinarySearchTree() \n",
    "\n",
    "for i in range(len(price)): \n",
    "    pricelist.add(price[i])\n",
    "    \n",
    "print(pricelist.inorder([]))\n",
    "print(\" \")\n",
    "print(\"The minimum price is: $\", pricelist.get_min())\n",
    "print(\"The maximum price is: $\", pricelist.get_max())"
   ]
  },
  {
   "cell_type": "markdown",
   "metadata": {},
   "source": [
    "Private Rom"
   ]
  },
  {
   "cell_type": "code",
   "execution_count": 53,
   "metadata": {},
   "outputs": [],
   "source": [
    "bpr_price = bpr['price'].unique()\n",
    "mpr_price = mpr['price'].unique()\n",
    "qpr_price = qpr['price'].unique()\n",
    "spr_price = spr['price'].unique()\n",
    "b2pr_price = b2pr['price'].unique()"
   ]
  },
  {
   "cell_type": "markdown",
   "metadata": {},
   "source": [
    "Brooklyn"
   ]
  },
  {
   "cell_type": "code",
   "execution_count": 60,
   "metadata": {},
   "outputs": [
    {
     "name": "stdout",
     "output_type": "stream",
     "text": [
      "[0, 10, 15, 18, 20, 21, 22, 23, 24, 25, 26, 27, 28, 29, 30, 31, 32, 33, 34, 35, 36, 37, 38, 39, 40, 41, 42, 43, 44, 45, 46, 47, 48, 49, 50, 51, 52, 53, 54, 55, 56, 57, 58, 59, 60, 61, 62, 63, 64, 65, 66, 67, 68, 69, 70, 71, 72, 73, 74, 75, 76, 77, 78, 79, 80, 81, 82, 83, 84, 85, 86, 87, 88, 89, 90, 91, 92, 93, 94, 95, 96, 97, 98, 99, 100, 101, 102, 103, 104, 105, 106, 107, 108, 109, 110, 111, 112, 113, 114, 115, 116, 117, 118, 119, 120, 121, 122, 123, 124, 125, 126, 128, 129, 130, 132, 133, 135, 137, 138, 139, 140, 142, 145, 146, 148, 149, 150, 151, 152, 153, 155, 156, 157, 158, 159, 160, 165, 166, 168, 169, 170, 175, 178, 179, 180, 184, 185, 187, 188, 189, 190, 195, 196, 199, 200, 206, 209, 210, 212, 215, 220, 225, 230, 239, 240, 241, 245, 249, 250, 259, 274, 275, 279, 280, 290, 295, 299, 300, 319, 340, 349, 350, 365, 375, 380, 399, 400, 425, 430, 438, 450, 475, 477, 500, 525, 550, 599, 600, 640, 700, 750, 800, 900, 935, 974, 1000, 1002, 1100, 1300, 1333, 1350, 1500, 1600, 1750, 2000, 3000, 4200, 5000, 7500]\n",
      " \n",
      "The minimum price is: $ 0\n",
      "The maximum price is: $ 7500\n"
     ]
    }
   ],
   "source": [
    "bpr_pricelist = BinarySearchTree() \n",
    "\n",
    "for i in range(len(bpr_price)): \n",
    "    bpr_pricelist.add(bpr_price[i])\n",
    "    \n",
    "print(bpr_pricelist.inorder([]))\n",
    "print(\" \")\n",
    "print(\"The minimum price is: $\", bpr_pricelist.get_min())\n",
    "print(\"The maximum price is: $\", bpr_pricelist.get_max())"
   ]
  },
  {
   "cell_type": "markdown",
   "metadata": {},
   "source": [
    "Manhattan"
   ]
  },
  {
   "cell_type": "code",
   "execution_count": 112,
   "metadata": {},
   "outputs": [
    {
     "name": "stdout",
     "output_type": "stream",
     "text": [
      "[10, 12, 16, 20, 22, 24, 25, 26, 27, 28, 29, 30, 31, 32, 33, 34, 35, 36, 37, 38, 39, 40, 41, 42, 43, 44, 45, 46, 47, 48, 49, 50, 51, 52, 53, 54, 55, 56, 57, 58, 59, 60, 61, 62, 63, 64, 65, 66, 67, 68, 69, 70, 71, 72, 73, 74, 75, 76, 77, 78, 79, 80, 81, 82, 83, 84, 85, 86, 87, 88, 89, 90, 91, 92, 93, 94, 95, 96, 97, 98, 99, 100, 101, 102, 103, 104, 105, 106, 107, 108, 109, 110, 111, 112, 113, 114, 115, 116, 117, 118, 119, 120, 121, 122, 123, 124, 125, 126, 127, 128, 129, 130, 131, 132, 133, 134, 135, 136, 137, 138, 139, 140, 141, 142, 143, 144, 145, 146, 147, 148, 149, 150, 152, 153, 154, 155, 156, 157, 158, 159, 160, 163, 164, 165, 166, 167, 169, 170, 172, 173, 174, 175, 176, 177, 179, 180, 181, 182, 185, 187, 188, 189, 190, 191, 193, 194, 195, 196, 197, 198, 199, 200, 202, 204, 205, 207, 208, 209, 210, 215, 217, 219, 220, 222, 224, 225, 227, 228, 229, 230, 231, 233, 235, 240, 244, 245, 246, 249, 250, 252, 255, 256, 258, 260, 262, 264, 269, 270, 274, 275, 279, 280, 285, 289, 290, 293, 295, 297, 299, 300, 301, 302, 304, 305, 307, 308, 310, 314, 320, 324, 325, 329, 330, 333, 335, 339, 340, 349, 350, 355, 358, 359, 365, 369, 370, 372, 375, 378, 379, 380, 382, 389, 390, 395, 399, 400, 410, 415, 420, 425, 429, 430, 449, 450, 475, 489, 499, 500, 515, 530, 540, 550, 561, 577, 587, 590, 599, 600, 616, 640, 649, 655, 699, 700, 749, 750, 794, 799, 800, 848, 895, 899, 913, 949, 950, 975, 980, 990, 995, 999, 1000, 1100, 1200, 1250, 1300, 1350, 1450, 1500, 1599, 1700, 1880, 1900, 2000, 2010, 2500, 2800, 2850, 3000, 3210, 6500, 9999]\n",
      " \n",
      "The minimum price is: $ 10\n",
      "The maximum price is: $ 9999\n"
     ]
    }
   ],
   "source": [
    "mpr_pricelist = BinarySearchTree() \n",
    "\n",
    "for i in range(len(mpr_price)): \n",
    "    mpr_pricelist.add(mpr_price[i])\n",
    "    \n",
    "print(mpr_pricelist.inorder([]))\n",
    "print(\" \")\n",
    "print(\"The minimum price is: $\", mpr_pricelist.get_min())\n",
    "print(\"The maximum price is: $\", mpr_pricelist.get_max())"
   ]
  },
  {
   "cell_type": "markdown",
   "metadata": {},
   "source": [
    "Queens"
   ]
  },
  {
   "cell_type": "code",
   "execution_count": 62,
   "metadata": {},
   "outputs": [
    {
     "name": "stdout",
     "output_type": "stream",
     "text": [
      "[10, 20, 22, 23, 24, 25, 26, 27, 28, 29, 30, 31, 32, 33, 34, 35, 36, 37, 38, 39, 40, 41, 42, 43, 44, 45, 46, 47, 48, 49, 50, 51, 52, 53, 54, 55, 56, 57, 58, 59, 60, 61, 62, 63, 64, 65, 66, 67, 68, 69, 70, 71, 72, 73, 74, 75, 76, 77, 78, 79, 80, 81, 82, 83, 84, 85, 86, 87, 88, 89, 90, 91, 92, 93, 95, 96, 97, 98, 99, 100, 101, 102, 103, 105, 108, 109, 110, 112, 113, 115, 116, 119, 120, 125, 129, 130, 132, 133, 135, 138, 139, 140, 145, 147, 149, 150, 155, 159, 160, 165, 166, 169, 170, 175, 178, 180, 185, 190, 195, 199, 200, 208, 220, 225, 239, 250, 259, 289, 300, 340, 349, 350, 375, 389, 395, 399, 400, 425, 443, 475, 500, 600, 700, 750, 875, 900, 2000, 10000]\n",
      " \n",
      "The minimum price is: $ 10\n",
      "The maximum price is: $ 10000\n"
     ]
    }
   ],
   "source": [
    "qpr_pricelist = BinarySearchTree() \n",
    "\n",
    "for i in range(len(qpr_price)): \n",
    "    qpr_pricelist.add(qpr_price[i])\n",
    "    \n",
    "print(qpr_pricelist.inorder([]))\n",
    "print(\" \")\n",
    "print(\"The minimum price is: $\", qpr_pricelist.get_min())\n",
    "print(\"The maximum price is: $\", qpr_pricelist.get_max())"
   ]
  },
  {
   "cell_type": "markdown",
   "metadata": {},
   "source": [
    "Staten Island"
   ]
  },
  {
   "cell_type": "code",
   "execution_count": 63,
   "metadata": {},
   "outputs": [
    {
     "name": "stdout",
     "output_type": "stream",
     "text": [
      "[20, 22, 25, 27, 29, 30, 31, 32, 33, 34, 35, 36, 37, 39, 40, 41, 42, 43, 45, 46, 47, 48, 49, 50, 52, 54, 55, 56, 57, 58, 59, 60, 63, 65, 68, 69, 70, 71, 72, 75, 79, 80, 83, 85, 89, 90, 95, 99, 100, 105, 110, 115, 118, 120, 129, 135, 150, 200, 235, 300]\n",
      " \n",
      "The minimum price is: $ 20\n",
      "The maximum price is: $ 300\n"
     ]
    }
   ],
   "source": [
    "spr_pricelist = BinarySearchTree() \n",
    "\n",
    "for i in range(len(spr_price)): \n",
    "    spr_pricelist.add(spr_price[i])\n",
    "    \n",
    "print(spr_pricelist.inorder([]))\n",
    "print(\" \")\n",
    "print(\"The minimum price is: $\", spr_pricelist.get_min())\n",
    "print(\"The maximum price is: $\", spr_pricelist.get_max())"
   ]
  },
  {
   "cell_type": "markdown",
   "metadata": {},
   "source": [
    "Bronx"
   ]
  },
  {
   "cell_type": "code",
   "execution_count": 65,
   "metadata": {},
   "outputs": [
    {
     "name": "stdout",
     "output_type": "stream",
     "text": [
      "[10, 21, 22, 23, 24, 25, 26, 27, 28, 29, 30, 33, 34, 35, 36, 37, 38, 39, 40, 41, 42, 43, 44, 45, 46, 47, 48, 49, 50, 51, 52, 53, 54, 55, 56, 57, 58, 59, 60, 62, 63, 64, 65, 67, 68, 69, 70, 71, 73, 74, 75, 77, 79, 80, 82, 85, 87, 90, 95, 99, 100, 105, 107, 119, 120, 122, 125, 130, 140, 142, 145, 149, 150, 160, 187, 200, 240, 300, 500, 600, 680, 2500]\n",
      " \n",
      "The minimum price is: $ 10\n",
      "The maximum price is: $ 2500\n"
     ]
    }
   ],
   "source": [
    "b2pr_pricelist = BinarySearchTree() \n",
    "\n",
    "for i in range(len(b2pr_price)): \n",
    "    b2pr_pricelist.add(b2pr_price[i])\n",
    "    \n",
    "print(b2pr_pricelist.inorder([]))\n",
    "print(\" \")\n",
    "print(\"The minimum price is: $\", b2pr_pricelist.get_min())\n",
    "print(\"The maximum price is: $\", b2pr_pricelist.get_max())"
   ]
  },
  {
   "cell_type": "markdown",
   "metadata": {},
   "source": [
    "Entire home/apartment"
   ]
  },
  {
   "cell_type": "code",
   "execution_count": 66,
   "metadata": {},
   "outputs": [],
   "source": [
    "beh_price = beh['price'].unique()\n",
    "meh_price = meh['price'].unique()\n",
    "qeh_price = qeh['price'].unique()\n",
    "seh_price = seh['price'].unique()\n",
    "b2eh_price = b2eh['price'].unique()"
   ]
  },
  {
   "cell_type": "markdown",
   "metadata": {},
   "source": [
    "Brooklyn"
   ]
  },
  {
   "cell_type": "code",
   "execution_count": 67,
   "metadata": {},
   "outputs": [
    {
     "name": "stdout",
     "output_type": "stream",
     "text": [
      "[10, 11, 12, 20, 22, 25, 28, 30, 32, 33, 34, 35, 37, 38, 40, 41, 43, 44, 45, 46, 48, 49, 50, 52, 53, 55, 56, 57, 58, 59, 60, 61, 62, 63, 64, 65, 66, 67, 68, 69, 70, 71, 72, 73, 74, 75, 76, 77, 78, 79, 80, 81, 82, 83, 84, 85, 86, 87, 88, 89, 90, 91, 92, 93, 94, 95, 96, 97, 98, 99, 100, 101, 102, 103, 104, 105, 106, 107, 108, 109, 110, 111, 112, 113, 114, 115, 116, 117, 118, 119, 120, 121, 122, 123, 124, 125, 126, 127, 128, 129, 130, 131, 132, 133, 134, 135, 136, 137, 138, 139, 140, 141, 142, 143, 144, 145, 146, 147, 148, 149, 150, 151, 152, 153, 154, 155, 156, 157, 158, 159, 160, 161, 162, 163, 164, 165, 166, 167, 168, 169, 170, 171, 172, 173, 174, 175, 176, 177, 178, 179, 180, 181, 182, 183, 184, 185, 186, 187, 188, 189, 190, 191, 192, 193, 195, 196, 197, 198, 199, 200, 201, 202, 203, 204, 205, 206, 207, 208, 209, 210, 211, 212, 213, 214, 215, 216, 217, 218, 219, 220, 223, 224, 225, 226, 227, 228, 229, 230, 231, 233, 234, 235, 237, 239, 240, 241, 243, 244, 245, 246, 247, 248, 249, 250, 251, 254, 255, 256, 259, 260, 261, 262, 264, 265, 267, 269, 270, 272, 274, 275, 276, 278, 279, 280, 282, 283, 285, 288, 289, 290, 295, 298, 299, 300, 305, 306, 308, 310, 312, 315, 316, 318, 319, 320, 325, 327, 328, 329, 330, 333, 335, 336, 340, 345, 347, 348, 349, 350, 352, 355, 358, 359, 360, 365, 369, 370, 375, 378, 379, 380, 385, 389, 390, 392, 395, 399, 400, 402, 408, 409, 410, 414, 415, 418, 424, 425, 436, 440, 444, 445, 449, 450, 451, 459, 460, 465, 469, 475, 480, 490, 495, 496, 499, 500, 506, 520, 525, 530, 531, 545, 549, 550, 575, 585, 595, 599, 600, 619, 647, 649, 650, 659, 689, 690, 695, 700, 745, 750, 780, 785, 789, 795, 800, 825, 830, 860, 890, 895, 900, 945, 950, 975, 985, 995, 999, 1000, 1050, 1067, 1080, 1095, 1150, 1200, 1315, 1369, 1395, 1400, 1485, 1494, 1500, 1680, 1700, 1749, 1750, 1763, 1800, 2000, 2100, 2103, 2500, 2545, 2626, 4000, 4200, 4500, 5000, 6500, 8000, 10000]\n",
      " \n",
      "The minimum price is: $ 10\n",
      "The maximum price is: $ 10000\n"
     ]
    }
   ],
   "source": [
    "beh_pricelist = BinarySearchTree() \n",
    "\n",
    "for i in range(len(beh_price)): \n",
    "    beh_pricelist.add(beh_price[i])\n",
    "    \n",
    "print(beh_pricelist.inorder([]))\n",
    "print(\" \")\n",
    "print(\"The minimum price is: $\", beh_pricelist.get_min())\n",
    "print(\"The maximum price is: $\", beh_pricelist.get_max())"
   ]
  },
  {
   "cell_type": "markdown",
   "metadata": {},
   "source": [
    "Manhattan"
   ]
  },
  {
   "cell_type": "code",
   "execution_count": 68,
   "metadata": {},
   "outputs": [
    {
     "name": "stdout",
     "output_type": "stream",
     "text": [
      "[0, 10, 11, 12, 15, 16, 35, 37, 40, 45, 49, 50, 51, 53, 54, 55, 56, 57, 58, 59, 60, 62, 64, 65, 66, 67, 68, 69, 70, 71, 72, 73, 74, 75, 76, 77, 78, 79, 80, 82, 83, 84, 85, 86, 87, 88, 89, 90, 91, 92, 93, 94, 95, 96, 97, 98, 99, 100, 101, 102, 103, 104, 105, 106, 107, 108, 109, 110, 111, 112, 113, 114, 115, 116, 117, 118, 119, 120, 121, 122, 123, 124, 125, 126, 127, 128, 129, 130, 131, 132, 133, 134, 135, 136, 137, 138, 139, 140, 141, 142, 143, 144, 145, 146, 147, 148, 149, 150, 151, 152, 153, 154, 155, 156, 157, 158, 159, 160, 161, 162, 163, 164, 165, 166, 167, 168, 169, 170, 171, 172, 173, 174, 175, 176, 177, 178, 179, 180, 181, 182, 183, 184, 185, 186, 187, 188, 189, 190, 191, 192, 193, 194, 195, 196, 197, 198, 199, 200, 201, 202, 203, 204, 205, 206, 207, 208, 209, 210, 211, 212, 213, 214, 215, 216, 217, 218, 219, 220, 221, 222, 223, 224, 225, 226, 227, 228, 229, 230, 231, 232, 233, 234, 235, 236, 237, 238, 239, 240, 241, 242, 243, 244, 245, 246, 247, 248, 249, 250, 251, 252, 253, 254, 255, 256, 257, 258, 259, 260, 261, 262, 263, 264, 265, 266, 267, 268, 269, 270, 271, 272, 273, 274, 275, 276, 277, 278, 279, 280, 281, 282, 283, 284, 285, 287, 288, 289, 290, 291, 292, 293, 294, 295, 296, 297, 298, 299, 300, 302, 303, 304, 305, 306, 307, 308, 309, 310, 311, 312, 313, 314, 315, 316, 317, 319, 320, 321, 322, 323, 325, 328, 329, 330, 331, 332, 333, 334, 335, 337, 338, 339, 340, 341, 342, 343, 344, 345, 346, 347, 348, 349, 350, 352, 353, 355, 356, 358, 359, 360, 361, 362, 365, 367, 369, 370, 372, 373, 374, 375, 376, 377, 378, 379, 380, 381, 382, 383, 385, 386, 387, 388, 389, 390, 392, 393, 394, 395, 396, 397, 398, 399, 400, 403, 404, 407, 408, 409, 410, 412, 415, 416, 417, 418, 419, 420, 421, 422, 423, 425, 426, 428, 429, 430, 431, 432, 433, 434, 435, 438, 439, 440, 442, 443, 444, 445, 446, 447, 449, 450, 451, 452, 453, 454, 455, 459, 460, 462, 463, 465, 466, 468, 470, 471, 472, 474, 475, 478, 479, 480, 481, 483, 484, 485, 487, 488, 489, 490, 495, 497, 498, 499, 500, 503, 505, 510, 515, 519, 520, 524, 525, 534, 539, 540, 545, 549, 550, 555, 559, 560, 573, 575, 577, 578, 580, 583, 584, 585, 589, 590, 595, 599, 600, 612, 615, 620, 625, 639, 643, 649, 650, 670, 672, 675, 690, 692, 695, 699, 700, 714, 718, 720, 737, 745, 748, 749, 750, 760, 766, 785, 790, 795, 799, 800, 805, 814, 820, 822, 825, 840, 843, 850, 860, 888, 890, 894, 895, 898, 899, 900, 920, 930, 945, 949, 950, 956, 975, 980, 995, 999, 1000, 1020, 1046, 1050, 1066, 1075, 1099, 1100, 1115, 1145, 1150, 1170, 1177, 1195, 1200, 1250, 1295, 1299, 1300, 1306, 1308, 1400, 1475, 1495, 1497, 1500, 1550, 1599, 1600, 1731, 1750, 1795, 1799, 1899, 1978, 1999, 2000, 2200, 2250, 2300, 2400, 2500, 2590, 2695, 2750, 2900, 2990, 2995, 2999, 3000, 3200, 3512, 3518, 3600, 3613, 3750, 3800, 3900, 4000, 4100, 4160, 5000, 5100, 5250, 6000, 6419, 6500, 6800, 7500, 7703, 8500, 9999, 10000]\n",
      " \n",
      "The minimum price is: $ 0\n",
      "The maximum price is: $ 10000\n"
     ]
    }
   ],
   "source": [
    "meh_pricelist = BinarySearchTree() \n",
    "\n",
    "for i in range(len(meh_price)): \n",
    "    meh_pricelist.add(meh_price[i])\n",
    "    \n",
    "print(meh_pricelist.inorder([]))\n",
    "print(\" \")\n",
    "print(\"The minimum price is: $\", meh_pricelist.get_min())\n",
    "print(\"The maximum price is: $\", meh_pricelist.get_max())"
   ]
  },
  {
   "cell_type": "markdown",
   "metadata": {},
   "source": [
    "Queens"
   ]
  },
  {
   "cell_type": "code",
   "execution_count": 69,
   "metadata": {},
   "outputs": [
    {
     "name": "stdout",
     "output_type": "stream",
     "text": [
      "[10, 15, 16, 20, 25, 30, 35, 39, 40, 42, 44, 45, 46, 47, 48, 49, 50, 51, 52, 53, 54, 55, 57, 58, 59, 60, 61, 62, 63, 64, 65, 66, 67, 68, 69, 70, 71, 72, 73, 74, 75, 76, 77, 78, 79, 80, 81, 82, 83, 84, 85, 86, 87, 88, 89, 90, 92, 93, 94, 95, 96, 97, 98, 99, 100, 101, 103, 104, 105, 106, 107, 108, 109, 110, 111, 112, 113, 114, 115, 116, 117, 118, 119, 120, 121, 122, 123, 124, 125, 126, 127, 128, 129, 130, 131, 132, 133, 134, 135, 136, 137, 138, 139, 140, 142, 143, 144, 145, 146, 147, 148, 149, 150, 151, 153, 155, 156, 158, 159, 160, 165, 166, 167, 168, 169, 170, 174, 175, 178, 179, 180, 183, 184, 185, 187, 188, 189, 190, 192, 195, 196, 197, 198, 199, 200, 204, 205, 207, 210, 215, 219, 220, 225, 228, 229, 230, 231, 235, 238, 239, 240, 245, 246, 248, 249, 250, 254, 255, 257, 258, 259, 260, 261, 265, 268, 274, 275, 278, 280, 283, 285, 288, 289, 290, 295, 298, 299, 300, 320, 325, 340, 349, 350, 359, 360, 369, 375, 379, 390, 395, 396, 398, 399, 400, 425, 450, 455, 460, 485, 499, 500, 509, 545, 600, 650, 688, 750, 900, 1000, 1500, 2000, 2350, 2600]\n",
      " \n",
      "The minimum price is: $ 10\n",
      "The maximum price is: $ 2600\n"
     ]
    }
   ],
   "source": [
    "qeh_pricelist = BinarySearchTree() \n",
    "\n",
    "for i in range(len(qeh_price)): \n",
    "    qeh_pricelist.add(qeh_price[i])\n",
    "    \n",
    "print(qeh_pricelist.inorder([]))\n",
    "print(\" \")\n",
    "print(\"The minimum price is: $\", qeh_pricelist.get_min())\n",
    "print(\"The maximum price is: $\", qeh_pricelist.get_max())"
   ]
  },
  {
   "cell_type": "markdown",
   "metadata": {},
   "source": [
    "Staten Island"
   ]
  },
  {
   "cell_type": "code",
   "execution_count": 70,
   "metadata": {},
   "outputs": [
    {
     "name": "stdout",
     "output_type": "stream",
     "text": [
      "[48, 49, 50, 51, 55, 57, 58, 60, 61, 62, 65, 67, 68, 70, 71, 72, 75, 77, 78, 80, 83, 85, 86, 89, 90, 91, 95, 97, 99, 100, 103, 105, 106, 109, 110, 115, 119, 120, 122, 125, 130, 135, 138, 140, 144, 149, 150, 155, 161, 165, 175, 180, 185, 190, 195, 199, 200, 221, 245, 249, 250, 275, 289, 299, 300, 429, 450, 625, 700, 800, 1000, 1250, 5000]\n",
      " \n",
      "The minimum price is: $ 48\n",
      "The maximum price is: $ 5000\n"
     ]
    }
   ],
   "source": [
    "seh_pricelist = BinarySearchTree()\n",
    "\n",
    "for i in range(len(seh_price)): \n",
    "    seh_pricelist.add(seh_price[i])\n",
    "    \n",
    "print(seh_pricelist.inorder([]))\n",
    "print(\" \")\n",
    "print(\"The minimum price is: $\", seh_pricelist.get_min())\n",
    "print(\"The maximum price is: $\", seh_pricelist.get_max())"
   ]
  },
  {
   "cell_type": "markdown",
   "metadata": {},
   "source": [
    "Bronx"
   ]
  },
  {
   "cell_type": "code",
   "execution_count": 71,
   "metadata": {},
   "outputs": [
    {
     "name": "stdout",
     "output_type": "stream",
     "text": [
      "[28, 35, 37, 39, 40, 42, 47, 48, 49, 50, 55, 57, 58, 59, 60, 62, 63, 65, 67, 68, 69, 70, 71, 72, 74, 75, 76, 77, 79, 80, 81, 84, 85, 86, 87, 88, 89, 90, 92, 93, 95, 98, 99, 100, 101, 102, 103, 104, 105, 107, 109, 110, 114, 115, 117, 119, 120, 125, 127, 128, 130, 132, 135, 139, 140, 142, 145, 148, 149, 150, 155, 159, 165, 168, 175, 178, 189, 190, 195, 196, 199, 200, 220, 223, 225, 240, 247, 250, 280, 288, 289, 299, 300, 309, 325, 350, 360, 379, 390, 399, 425, 450, 475, 500, 600, 670, 1000]\n",
      " \n",
      "The minimum price is: $ 28\n",
      "The maximum price is: $ 1000\n"
     ]
    }
   ],
   "source": [
    "b2eh_pricelist = BinarySearchTree() \n",
    "\n",
    "for i in range(len(b2eh_price)): \n",
    "    b2eh_pricelist.add(b2eh_price[i])\n",
    "    \n",
    "print(b2eh_pricelist.inorder([]))\n",
    "print(\" \")\n",
    "print(\"The minimum price is: $\", b2eh_pricelist.get_min())\n",
    "print(\"The maximum price is: $\", b2eh_pricelist.get_max())"
   ]
  },
  {
   "cell_type": "markdown",
   "metadata": {},
   "source": [
    "Shared Room"
   ]
  },
  {
   "cell_type": "code",
   "execution_count": 72,
   "metadata": {},
   "outputs": [],
   "source": [
    "bsr_price = bsr['price'].unique()\n",
    "msr_price = msr['price'].unique()\n",
    "qsr_price = qsr['price'].unique()\n",
    "ssr_price = ssr['price'].unique()\n",
    "b2sr_price = b2sr['price'].unique()"
   ]
  },
  {
   "cell_type": "markdown",
   "metadata": {},
   "source": [
    "Brooklyn"
   ]
  },
  {
   "cell_type": "code",
   "execution_count": 73,
   "metadata": {},
   "outputs": [
    {
     "name": "stdout",
     "output_type": "stream",
     "text": [
      "[15, 18, 19, 20, 21, 22, 23, 24, 25, 26, 27, 28, 29, 30, 31, 32, 33, 34, 35, 36, 37, 38, 39, 40, 41, 42, 43, 44, 45, 46, 47, 48, 49, 50, 52, 54, 55, 59, 60, 62, 64, 65, 68, 70, 72, 75, 78, 79, 80, 85, 90, 95, 99, 100, 110, 115, 119, 125, 130, 149, 150, 159, 175, 179, 185, 195, 200, 225, 250, 300, 400, 725]\n",
      " \n",
      "The minimum price is: $ 15\n",
      "The maximum price is: $ 725\n"
     ]
    }
   ],
   "source": [
    "bsr_pricelist = BinarySearchTree() \n",
    "\n",
    "for i in range(len(bsr_price)): \n",
    "    bsr_pricelist.add(bsr_price[i])\n",
    "    \n",
    "print(bsr_pricelist.inorder([]))\n",
    "print(\" \")\n",
    "print(\"The minimum price is: $\", bsr_pricelist.get_min())\n",
    "print(\"The maximum price is: $\", bsr_pricelist.get_max())"
   ]
  },
  {
   "cell_type": "markdown",
   "metadata": {},
   "source": [
    "Manhattan"
   ]
  },
  {
   "cell_type": "code",
   "execution_count": 74,
   "metadata": {},
   "outputs": [
    {
     "name": "stdout",
     "output_type": "stream",
     "text": [
      "[10, 20, 25, 29, 30, 31, 32, 33, 34, 35, 36, 37, 39, 40, 41, 42, 43, 44, 45, 46, 47, 49, 50, 53, 55, 56, 58, 59, 60, 61, 62, 63, 64, 65, 66, 67, 68, 69, 70, 75, 76, 77, 78, 79, 80, 85, 89, 90, 95, 96, 97, 99, 100, 103, 105, 110, 115, 116, 117, 120, 125, 130, 139, 145, 147, 150, 160, 165, 169, 175, 180, 185, 195, 199, 200, 209, 220, 235, 249, 250, 260, 299, 300, 320, 337, 350, 360, 400, 450, 500, 800, 1000]\n",
      " \n",
      "The minimum price is: $ 10\n",
      "The maximum price is: $ 1000\n"
     ]
    }
   ],
   "source": [
    "msr_pricelist = BinarySearchTree() \n",
    "\n",
    "for i in range(len(msr_price)): \n",
    "    msr_pricelist.add(msr_price[i])\n",
    "    \n",
    "print(msr_pricelist.inorder([]))\n",
    "print(\" \")\n",
    "print(\"The minimum price is: $\", msr_pricelist.get_min())\n",
    "print(\"The maximum price is: $\", msr_pricelist.get_max())"
   ]
  },
  {
   "cell_type": "markdown",
   "metadata": {},
   "source": [
    "Queens"
   ]
  },
  {
   "cell_type": "code",
   "execution_count": 75,
   "metadata": {},
   "outputs": [
    {
     "name": "stdout",
     "output_type": "stream",
     "text": [
      "[11, 12, 15, 16, 19, 20, 21, 22, 23, 24, 25, 26, 27, 28, 29, 30, 31, 32, 33, 34, 35, 36, 37, 38, 39, 40, 41, 42, 43, 45, 48, 49, 50, 51, 52, 55, 58, 60, 65, 69, 70, 72, 73, 75, 79, 99, 100, 105, 108, 110, 120, 150, 200, 300, 500, 1000, 1250, 1800]\n",
      " \n",
      "The minimum price is: $ 11\n",
      "The maximum price is: $ 1800\n"
     ]
    }
   ],
   "source": [
    "qsr_pricelist = BinarySearchTree() \n",
    "\n",
    "for i in range(len(qsr_price)): \n",
    "    qsr_pricelist.add(qsr_price[i])\n",
    "    \n",
    "print(qsr_pricelist.inorder([]))\n",
    "print(\" \")\n",
    "print(\"The minimum price is: $\", qsr_pricelist.get_min())\n",
    "print(\"The maximum price is: $\", qsr_pricelist.get_max())"
   ]
  },
  {
   "cell_type": "markdown",
   "metadata": {},
   "source": [
    "Staten Island"
   ]
  },
  {
   "cell_type": "code",
   "execution_count": 76,
   "metadata": {},
   "outputs": [
    {
     "name": "stdout",
     "output_type": "stream",
     "text": [
      "[13, 20, 29, 30, 75, 95, 150]\n",
      " \n",
      "The minimum price is: $ 13\n",
      "The maximum price is: $ 150\n"
     ]
    }
   ],
   "source": [
    "ssr_pricelist = BinarySearchTree() \n",
    "\n",
    "for i in range(len(ssr_price)): \n",
    "    ssr_pricelist.add(ssr_price[i])\n",
    "    \n",
    "print(ssr_pricelist.inorder([]))\n",
    "print(\" \")\n",
    "print(\"The minimum price is: $\", ssr_pricelist.get_min())\n",
    "print(\"The maximum price is: $\", ssr_pricelist.get_max())"
   ]
  },
  {
   "cell_type": "markdown",
   "metadata": {},
   "source": [
    "Bronx"
   ]
  },
  {
   "cell_type": "code",
   "execution_count": 77,
   "metadata": {},
   "outputs": [
    {
     "name": "stdout",
     "output_type": "stream",
     "text": [
      "[20, 22, 25, 26, 28, 32, 33, 35, 36, 40, 45, 49, 50, 51, 55, 57, 60, 65, 70, 77, 80, 85, 110, 130, 150, 165, 800]\n",
      " \n",
      "The minimum price is: $ 20\n",
      "The maximum price is: $ 800\n"
     ]
    }
   ],
   "source": [
    "b2sr_pricelist = BinarySearchTree() \n",
    "\n",
    "for i in range(len(b2sr_price)): \n",
    "    b2sr_pricelist.add(b2sr_price[i])\n",
    "    \n",
    "print(b2sr_pricelist.inorder([]))\n",
    "print(\" \")\n",
    "print(\"The minimum price is: $\", b2sr_pricelist.get_min())\n",
    "print(\"The maximum price is: $\", b2sr_pricelist.get_max())"
   ]
  },
  {
   "cell_type": "markdown",
   "metadata": {},
   "source": [
    "# Hash Table\n",
    "\n",
    "To store host id and name of listing as key-value pairs for further data exploration.\n",
    "\n",
    "A Hash Table is a data structure that stores key-value pairs in buckets. A hash function works as an index to map each key to a bucket.\n",
    "\n",
    "The find method looks for the specific key the user wants, and returns the value associated with it.\n",
    "\n",
    "A Hash Table is very efficient and quick, with a best case running time of O(1) for insertion and searching. The worst case running time is then O(n)."
   ]
  },
  {
   "cell_type": "code",
   "execution_count": 78,
   "metadata": {},
   "outputs": [],
   "source": [
    "class HashTable: \n",
    "    def __init__(self, size): \n",
    "        self.table = [None] * size\n",
    "    \n",
    "    def hash(self, key): \n",
    "        size = len(self.table)\n",
    "        return hash(key) % size\n",
    "    \n",
    "    def insert(self, key, value): \n",
    "        index = self.hash(key)\n",
    "        if self.table[index] is not None: \n",
    "            for kvp in self.table[index]: \n",
    "                if kvp[0] == key: \n",
    "                    kvp[1] = value\n",
    "                    break \n",
    "            else: \n",
    "                self.table[index].append([key, value])\n",
    "        else: \n",
    "            self.table[index] = []\n",
    "            self.table[index].append([key, value])\n",
    "        \n",
    "        if self.is_full(): \n",
    "            self.double()\n",
    "    \n",
    "    def find(self, key): \n",
    "        index = self.hash(key)\n",
    "        if self.table[index] is None: \n",
    "            return \"No value found\"\n",
    "        else: \n",
    "            for kvp in self.table[index]: \n",
    "                if kvp[0] == key: \n",
    "                    return kvp[1]\n",
    "    \n",
    "    def is_full(self): \n",
    "        items = 0 \n",
    "        for item in self.table: \n",
    "            if item is not None: \n",
    "                items += 1\n",
    "        return items > len(self.table)/2\n",
    "    \n",
    "    def double(self): \n",
    "        hash_2 = HashTable(size = len(self.table) * 2)\n",
    "        for i in range(len(self.table)): \n",
    "            if self.table[i] is None: \n",
    "                continue\n",
    "            for kvp in self.table[i]: \n",
    "                hash_2.insert(kvp[0], kvp[1])\n",
    "        self.table = hash_2.table"
   ]
  },
  {
   "cell_type": "markdown",
   "metadata": {},
   "source": [
    "Private Room"
   ]
  },
  {
   "cell_type": "code",
   "execution_count": 79,
   "metadata": {},
   "outputs": [],
   "source": [
    "bpr_id = bpr['host_id']\n",
    "bpr_name = bpr['name']\n",
    "\n",
    "mpr_id = mpr['host_id']\n",
    "mpr_name = mpr['name']\n",
    "\n",
    "qpr_id = qpr['host_id']\n",
    "qpr_name = qpr['name']\n",
    "\n",
    "spr_id = spr['host_id']\n",
    "spr_name = spr['name']\n",
    "\n",
    "b2pr_id = b2pr['host_id']\n",
    "b2pr_name = b2pr['name']"
   ]
  },
  {
   "cell_type": "markdown",
   "metadata": {},
   "source": [
    "Brooklyn"
   ]
  },
  {
   "cell_type": "code",
   "execution_count": 82,
   "metadata": {},
   "outputs": [],
   "source": [
    "bpr_idlist = [] \n",
    "for i in bpr_id: \n",
    "    bpr_idlist.append(i)\n",
    "\n",
    "bpr_namelist = []\n",
    "for i in bpr_name: \n",
    "    bpr_namelist.append(i)\n",
    "\n",
    "bpr_hash = HashTable(len(bpr_idlist))\n",
    "for i in range(len(bpr_idlist)): \n",
    "    bpr_hash.insert(bpr_idlist[i], bpr_namelist[i])"
   ]
  },
  {
   "cell_type": "markdown",
   "metadata": {},
   "source": [
    "Manhattan"
   ]
  },
  {
   "cell_type": "code",
   "execution_count": 81,
   "metadata": {},
   "outputs": [],
   "source": [
    "mpr_idlist = [] \n",
    "for i in mpr_id: \n",
    "    mpr_idlist.append(i)\n",
    "\n",
    "mpr_namelist = []\n",
    "for i in mpr_name: \n",
    "    mpr_namelist.append(i)\n",
    "\n",
    "mpr_hash = HashTable(len(mpr_idlist))\n",
    "for i in range(len(mpr_idlist)): \n",
    "    mpr_hash.insert(mpr_idlist[i], mpr_namelist[i])"
   ]
  },
  {
   "cell_type": "markdown",
   "metadata": {},
   "source": [
    "Queens"
   ]
  },
  {
   "cell_type": "code",
   "execution_count": 83,
   "metadata": {},
   "outputs": [],
   "source": [
    "qpr_idlist = [] \n",
    "for i in qpr_id: \n",
    "    qpr_idlist.append(i)\n",
    "\n",
    "qpr_namelist = []\n",
    "for i in qpr_name: \n",
    "    qpr_namelist.append(i)\n",
    "\n",
    "qpr_hash = HashTable(len(qpr_idlist))\n",
    "for i in range(len(qpr_idlist)): \n",
    "    qpr_hash.insert(qpr_idlist[i], qpr_namelist[i])"
   ]
  },
  {
   "cell_type": "markdown",
   "metadata": {},
   "source": [
    "Staten Island"
   ]
  },
  {
   "cell_type": "code",
   "execution_count": 84,
   "metadata": {},
   "outputs": [],
   "source": [
    "spr_idlist = [] \n",
    "for i in spr_id: \n",
    "    spr_idlist.append(i)\n",
    "\n",
    "spr_namelist = []\n",
    "for i in spr_name: \n",
    "    spr_namelist.append(i)\n",
    "\n",
    "spr_hash = HashTable(len(spr_idlist))\n",
    "for i in range(len(spr_idlist)): \n",
    "    spr_hash.insert(spr_idlist[i], spr_namelist[i])"
   ]
  },
  {
   "cell_type": "markdown",
   "metadata": {},
   "source": [
    "Bronx"
   ]
  },
  {
   "cell_type": "code",
   "execution_count": 85,
   "metadata": {},
   "outputs": [],
   "source": [
    "b2pr_idlist = [] \n",
    "for i in b2pr_id: \n",
    "    b2pr_idlist.append(i)\n",
    "\n",
    "b2pr_namelist = []\n",
    "for i in b2pr_name: \n",
    "    b2pr_namelist.append(i)\n",
    "\n",
    "b2pr_hash = HashTable(len(b2pr_idlist))\n",
    "for i in range(len(b2pr_idlist)): \n",
    "    b2pr_hash.insert(b2pr_idlist[i], b2pr_namelist[i])"
   ]
  },
  {
   "cell_type": "markdown",
   "metadata": {},
   "source": [
    "Entire home/apartment"
   ]
  },
  {
   "cell_type": "code",
   "execution_count": 86,
   "metadata": {},
   "outputs": [],
   "source": [
    "beh_id = beh['host_id']\n",
    "beh_name = beh['name']\n",
    "\n",
    "meh_id = meh['host_id']\n",
    "meh_name = meh['name']\n",
    "\n",
    "qeh_id = qeh['host_id']\n",
    "qeh_name = qeh['name']\n",
    "\n",
    "seh_id = seh['host_id']\n",
    "seh_name = seh['name']\n",
    "\n",
    "b2eh_id = b2eh['host_id']\n",
    "b2eh_name = b2eh['name']"
   ]
  },
  {
   "cell_type": "markdown",
   "metadata": {},
   "source": [
    "Brooklyn"
   ]
  },
  {
   "cell_type": "code",
   "execution_count": 87,
   "metadata": {},
   "outputs": [],
   "source": [
    "beh_idlist = [] \n",
    "for i in beh_id: \n",
    "    beh_idlist.append(i)\n",
    "\n",
    "beh_namelist = []\n",
    "for i in beh_name: \n",
    "    beh_namelist.append(i)\n",
    "\n",
    "beh_hash = HashTable(len(beh_idlist))\n",
    "for i in range(len(beh_idlist)): \n",
    "    beh_hash.insert(beh_idlist[i], beh_namelist[i])"
   ]
  },
  {
   "cell_type": "markdown",
   "metadata": {},
   "source": [
    "Manhattan"
   ]
  },
  {
   "cell_type": "code",
   "execution_count": 88,
   "metadata": {},
   "outputs": [],
   "source": [
    "meh_idlist = [] \n",
    "for i in meh_id: \n",
    "    meh_idlist.append(i)\n",
    "\n",
    "meh_namelist = []\n",
    "for i in meh_name: \n",
    "    meh_namelist.append(i)\n",
    "\n",
    "meh_hash = HashTable(len(meh_idlist))\n",
    "for i in range(len(meh_idlist)): \n",
    "    meh_hash.insert(meh_idlist[i], meh_namelist[i])"
   ]
  },
  {
   "cell_type": "markdown",
   "metadata": {},
   "source": [
    "Queens"
   ]
  },
  {
   "cell_type": "code",
   "execution_count": 89,
   "metadata": {},
   "outputs": [],
   "source": [
    "qeh_idlist = [] \n",
    "for i in qeh_id: \n",
    "    qeh_idlist.append(i)\n",
    "\n",
    "qeh_namelist = []\n",
    "for i in qeh_name: \n",
    "    qeh_namelist.append(i)\n",
    "\n",
    "qeh_hash = HashTable(len(qeh_idlist))\n",
    "for i in range(len(qeh_idlist)): \n",
    "    qeh_hash.insert(qeh_idlist[i], qeh_namelist[i])"
   ]
  },
  {
   "cell_type": "markdown",
   "metadata": {},
   "source": [
    "Staten Island"
   ]
  },
  {
   "cell_type": "code",
   "execution_count": 92,
   "metadata": {},
   "outputs": [],
   "source": [
    "seh_idlist = [] \n",
    "for i in seh_id: \n",
    "    seh_idlist.append(i)\n",
    "\n",
    "seh_namelist = []\n",
    "for i in seh_name: \n",
    "    seh_namelist.append(i)\n",
    "\n",
    "seh_hash = HashTable(len(seh_idlist))\n",
    "for i in range(len(seh_idlist)): \n",
    "    seh_hash.insert(seh_idlist[i], seh_namelist[i])"
   ]
  },
  {
   "cell_type": "markdown",
   "metadata": {},
   "source": [
    "Bronx"
   ]
  },
  {
   "cell_type": "code",
   "execution_count": 93,
   "metadata": {},
   "outputs": [],
   "source": [
    "b2eh_idlist = [] \n",
    "for i in b2eh_id: \n",
    "    b2eh_idlist.append(i)\n",
    "\n",
    "b2eh_namelist = []\n",
    "for i in b2eh_name: \n",
    "    b2eh_namelist.append(i)\n",
    "\n",
    "b2eh_hash = HashTable(len(b2eh_idlist))\n",
    "for i in range(len(b2eh_idlist)): \n",
    "    b2eh_hash.insert(b2eh_idlist[i], b2eh_namelist[i])"
   ]
  },
  {
   "cell_type": "markdown",
   "metadata": {},
   "source": [
    "Shared Room"
   ]
  },
  {
   "cell_type": "code",
   "execution_count": 94,
   "metadata": {},
   "outputs": [],
   "source": [
    "bsr_id = bsr['host_id']\n",
    "bsr_name = bsr['name']\n",
    "\n",
    "msr_id = msr['host_id']\n",
    "msr_name = msr['name']\n",
    "\n",
    "qsr_id = qsr['host_id']\n",
    "qsr_name = qsr['name']\n",
    "\n",
    "ssr_id = ssr['host_id']\n",
    "ssr_name = ssr['name']\n",
    "\n",
    "b2sr_id = b2sr['host_id']\n",
    "b2sr_name = b2sr['name']"
   ]
  },
  {
   "cell_type": "markdown",
   "metadata": {},
   "source": [
    "Brooklyn"
   ]
  },
  {
   "cell_type": "code",
   "execution_count": 95,
   "metadata": {},
   "outputs": [],
   "source": [
    "bsr_idlist = [] \n",
    "for i in bsr_id: \n",
    "    bsr_idlist.append(i)\n",
    "\n",
    "bsr_namelist = []\n",
    "for i in bsr_name: \n",
    "    bsr_namelist.append(i)\n",
    "\n",
    "bsr_hash = HashTable(len(bsr_idlist))\n",
    "for i in range(len(bsr_idlist)): \n",
    "    bsr_hash.insert(bsr_idlist[i], bsr_namelist[i])"
   ]
  },
  {
   "cell_type": "markdown",
   "metadata": {},
   "source": [
    "Manhattan"
   ]
  },
  {
   "cell_type": "code",
   "execution_count": 96,
   "metadata": {},
   "outputs": [],
   "source": [
    "msr_idlist = [] \n",
    "for i in msr_id: \n",
    "    msr_idlist.append(i)\n",
    "\n",
    "msr_namelist = []\n",
    "for i in msr_name: \n",
    "    msr_namelist.append(i)\n",
    "\n",
    "msr_hash = HashTable(len(msr_idlist))\n",
    "for i in range(len(msr_idlist)): \n",
    "    msr_hash.insert(msr_idlist[i], msr_namelist[i])"
   ]
  },
  {
   "cell_type": "markdown",
   "metadata": {},
   "source": [
    "Queens"
   ]
  },
  {
   "cell_type": "code",
   "execution_count": 98,
   "metadata": {},
   "outputs": [],
   "source": [
    "qsr_idlist = [] \n",
    "for i in qsr_id: \n",
    "    qsr_idlist.append(i)\n",
    "\n",
    "qsr_namelist = []\n",
    "for i in qsr_name: \n",
    "    qsr_namelist.append(i)\n",
    "\n",
    "qsr_hash = HashTable(len(qsr_idlist))\n",
    "for i in range(len(qsr_idlist)): \n",
    "    qsr_hash.insert(qsr_idlist[i], qsr_namelist[i])"
   ]
  },
  {
   "cell_type": "markdown",
   "metadata": {},
   "source": [
    "Staten Island"
   ]
  },
  {
   "cell_type": "code",
   "execution_count": 99,
   "metadata": {},
   "outputs": [],
   "source": [
    "ssr_idlist = [] \n",
    "for i in ssr_id: \n",
    "    ssr_idlist.append(i)\n",
    "\n",
    "ssr_namelist = []\n",
    "for i in ssr_name: \n",
    "    ssr_namelist.append(i)\n",
    "\n",
    "ssr_hash = HashTable(len(ssr_idlist))\n",
    "for i in range(len(ssr_idlist)): \n",
    "    ssr_hash.insert(ssr_idlist[i], ssr_namelist[i])"
   ]
  },
  {
   "cell_type": "markdown",
   "metadata": {},
   "source": [
    "Bronx"
   ]
  },
  {
   "cell_type": "code",
   "execution_count": 100,
   "metadata": {},
   "outputs": [],
   "source": [
    "b2sr_idlist = [] \n",
    "for i in b2sr_id: \n",
    "    b2sr_idlist.append(i)\n",
    "\n",
    "b2sr_namelist = []\n",
    "for i in b2sr_name: \n",
    "    b2sr_namelist.append(i)\n",
    "\n",
    "b2sr_hash = HashTable(len(b2sr_idlist))\n",
    "for i in range(len(b2sr_idlist)): \n",
    "    b2sr_hash.insert(b2sr_idlist[i], b2sr_namelist[i])"
   ]
  },
  {
   "cell_type": "markdown",
   "metadata": {},
   "source": [
    "We can find out more information using both the Binary Search Tree and the Hash Table together.\n",
    "\n",
    "We previously found the most reviews for a Private Room in Brooklyn was 480. Using the Hash Table, we can find out the name of this listing."
   ]
  },
  {
   "cell_type": "code",
   "execution_count": 104,
   "metadata": {},
   "outputs": [
    {
     "name": "stdout",
     "output_type": "stream",
     "text": [
      "792159\n"
     ]
    }
   ],
   "source": [
    "for i in range(len(df[\"number_of_reviews\"])): \n",
    "    if df[\"number_of_reviews\"][i] == 480 and df[\"neighbourhood_group\"][i] == 'Brooklyn' and df[\"room_type\"][i] == 'Private room':\n",
    "        print(df[\"host_id\"][i])"
   ]
  },
  {
   "cell_type": "code",
   "execution_count": 105,
   "metadata": {},
   "outputs": [
    {
     "name": "stdout",
     "output_type": "stream",
     "text": [
      "LG Private Room/Family Friendly\n"
     ]
    }
   ],
   "source": [
    "print(bpr_hash.find(792159))"
   ]
  },
  {
   "cell_type": "markdown",
   "metadata": {},
   "source": [
    "We can use the Binary Search Tree method of get_min() to find the minimum price of a listing based on the neighbourhood group and room type that we want. Using the Hash Table, we can find out the name of the listings."
   ]
  },
  {
   "cell_type": "code",
   "execution_count": 107,
   "metadata": {},
   "outputs": [
    {
     "name": "stdout",
     "output_type": "stream",
     "text": [
      "32162495\n",
      "471024\n"
     ]
    }
   ],
   "source": [
    "for i in range(len(df[\"price\"])): \n",
    "    if df[\"price\"][i] == seh_pricelist.get_min() and df[\"neighbourhood_group\"][i] == 'Staten Island' and df[\"room_type\"][i] == 'Entire home/apt':\n",
    "        print(df[\"host_id\"][i])"
   ]
  },
  {
   "cell_type": "code",
   "execution_count": 108,
   "metadata": {},
   "outputs": [
    {
     "name": "stdout",
     "output_type": "stream",
     "text": [
      "Private home next to beach,transport,parking\n",
      "Cute 2 bedroom apt. -ferry ride to Manhattan\n"
     ]
    }
   ],
   "source": [
    "print(seh_hash.find(32162495))\n",
    "print(seh_hash.find(471024))"
   ]
  },
  {
   "cell_type": "markdown",
   "metadata": {},
   "source": [
    "We can use the Binary Search Tree method of search() to see whether there is a listing with a specific price. The output is True if it exists and False if it does not."
   ]
  },
  {
   "cell_type": "code",
   "execution_count": 109,
   "metadata": {},
   "outputs": [
    {
     "name": "stdout",
     "output_type": "stream",
     "text": [
      "False\n",
      "False\n",
      "False\n",
      "True\n"
     ]
    }
   ],
   "source": [
    "print(msr_pricelist.search(6234))\n",
    "print(qpr_pricelist.search(0))\n",
    "print(ssr_pricelist.search(84))\n",
    "print(b2pr_pricelist.search(122))"
   ]
  },
  {
   "cell_type": "markdown",
   "metadata": {},
   "source": [
    "From the results above, we have found that a listing with the specific price of $122 exists, and it is a Private Room in Bronx. Using the Hash Table, we can find out the name of the listing."
   ]
  },
  {
   "cell_type": "code",
   "execution_count": 110,
   "metadata": {},
   "outputs": [
    {
     "name": "stdout",
     "output_type": "stream",
     "text": [
      "188453457\n"
     ]
    }
   ],
   "source": [
    "for i in range(len(df[\"price\"])): \n",
    "    if df[\"price\"][i] == 122 and df[\"neighbourhood_group\"][i] == 'Bronx' and df[\"room_type\"][i] == 'Private room':\n",
    "        print(df[\"host_id\"][i])"
   ]
  },
  {
   "cell_type": "code",
   "execution_count": 111,
   "metadata": {},
   "outputs": [
    {
     "name": "stdout",
     "output_type": "stream",
     "text": [
      "The Game Room Place\n"
     ]
    }
   ],
   "source": [
    "print(b2pr_hash.find(188453457))"
   ]
  }
 ],
 "metadata": {
  "kernelspec": {
   "display_name": "Python 3",
   "language": "python",
   "name": "python3"
  },
  "language_info": {
   "codemirror_mode": {
    "name": "ipython",
    "version": 3
   },
   "file_extension": ".py",
   "mimetype": "text/x-python",
   "name": "python",
   "nbconvert_exporter": "python",
   "pygments_lexer": "ipython3",
   "version": "3.8.3"
  }
 },
 "nbformat": 4,
 "nbformat_minor": 4
}
